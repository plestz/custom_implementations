{
 "cells": [
  {
   "cell_type": "code",
   "execution_count": 145,
   "id": "f8197d66",
   "metadata": {},
   "outputs": [
    {
     "name": "stdout",
     "output_type": "stream",
     "text": [
      "The autoreload extension is already loaded. To reload it, use:\n",
      "  %reload_ext autoreload\n"
     ]
    }
   ],
   "source": [
    "%load_ext autoreload\n",
    "%autoreload 2"
   ]
  },
  {
   "cell_type": "code",
   "execution_count": 160,
   "id": "48e3952b",
   "metadata": {},
   "outputs": [],
   "source": [
    "import sys\n",
    "import os\n",
    "from pathlib import Path\n",
    "\n",
    "# Get the parent directory (i.e. project root)\n",
    "project_root = Path().resolve().parent.parent \n",
    "sys.path.insert(0, str(project_root))\n",
    "\n",
    "import numpy as np\n",
    "import pandas as pd\n",
    "\n",
    "import torch\n",
    "import torch.nn as nn\n",
    "from torch.utils.data import Dataset, DataLoader\n",
    "from functools import partial\n",
    "\n",
    "from tqdm import tqdm\n",
    "\n",
    "from tokenization.byte_pair_encoding.get_tokenizers import train_and_save_tokenizer_for, load_tokenizer_from\n",
    "\n",
    "from pre_training.text_summarization.dataset import TextSummarizationDataset\n",
    "\n",
    "from src.embedding import CustomEmbedding\n",
    "from src.transformer import EncoderDecoderTransformer\n",
    "from src.utils import padding_collate_fn"
   ]
  },
  {
   "cell_type": "code",
   "execution_count": 147,
   "id": "81921cff",
   "metadata": {},
   "outputs": [],
   "source": [
    "DF_DATA_PATH = '../../data/SAMSum/'\n",
    "\n",
    "BPE_IN_PATH = '../../data/SAMSum/train_summary_and_dialogue.txt'\n",
    "BPE_OUT_PATH = '../../tokenization/trained_tokenizers/SAMSum_BPE'"
   ]
  },
  {
   "cell_type": "code",
   "execution_count": 148,
   "id": "0a22ec33",
   "metadata": {},
   "outputs": [],
   "source": [
    "MAX_CONTEXT_WINDOW = 100\n",
    "\n",
    "BATCH_SIZE = 2"
   ]
  },
  {
   "cell_type": "code",
   "execution_count": 149,
   "id": "73f11a25",
   "metadata": {},
   "outputs": [],
   "source": [
    "train_df = pd.read_json(DF_DATA_PATH + 'train_df.json', orient = 'records', lines = True)\n",
    "val_df = pd.read_json(DF_DATA_PATH + 'val_df.json', orient = 'records', lines = True)\n",
    "test_df = pd.read_json(DF_DATA_PATH + 'test_df.json', orient = 'records', lines = True)"
   ]
  },
  {
   "cell_type": "code",
   "execution_count": 150,
   "id": "319eede3",
   "metadata": {},
   "outputs": [
    {
     "name": "stdout",
     "output_type": "stream",
     "text": [
      "\n",
      "\n",
      "\n",
      "The pad token index is 2.\n"
     ]
    }
   ],
   "source": [
    "bpe_tokenizer = train_and_save_tokenizer_for(in_file_paths = [BPE_IN_PATH], out_file_dir_path = BPE_OUT_PATH, vocab_size = 4_000)\n",
    "pretrained_bpe_tokenizer = load_tokenizer_from(dir_path = BPE_OUT_PATH, model_max_length = 10000)\n",
    "\n",
    "PAD_TOKEN_IDX = pretrained_bpe_tokenizer.pad_token_id\n",
    "print(f'The pad token index is {PAD_TOKEN_IDX}.')"
   ]
  },
  {
   "cell_type": "code",
   "execution_count": 151,
   "id": "8a000cc4",
   "metadata": {},
   "outputs": [
    {
     "name": "stdout",
     "output_type": "stream",
     "text": [
      "With a max_context_window of 100...\n",
      "The number of training samples went from 14732 to 5580\n",
      "The number of validation samples went from 818 to 325\n",
      "The number of test samples went from 819 to 308\n"
     ]
    }
   ],
   "source": [
    "FILTER_tokenized_train_sources = pretrained_bpe_tokenizer(\n",
    "    train_df['dialogue'].tolist(),\n",
    "    add_special_tokens = False\n",
    ")\n",
    "\n",
    "FILTER_tokenized_train_targets = pretrained_bpe_tokenizer(\n",
    "    train_df['summary'].tolist(),\n",
    "    add_special_tokens = False\n",
    ")\n",
    "\n",
    "FILTER_tokenized_val_sources = pretrained_bpe_tokenizer(\n",
    "    val_df['dialogue'].tolist(),\n",
    "    add_special_tokens = False\n",
    ")\n",
    "\n",
    "FILTER_tokenized_val_targets = pretrained_bpe_tokenizer(\n",
    "    val_df['summary'].tolist(),\n",
    "    add_special_tokens = False\n",
    ")\n",
    "\n",
    "FILTER_tokenized_test_sources = pretrained_bpe_tokenizer(\n",
    "    test_df['dialogue'].tolist(),\n",
    "    add_special_tokens = False\n",
    ")\n",
    "\n",
    "FILTER_tokenized_test_targets = pretrained_bpe_tokenizer(\n",
    "    test_df['summary'].tolist(),\n",
    "    add_special_tokens = False\n",
    ")\n",
    "\n",
    "valid_src_train_indices = np.array([len(example) <= MAX_CONTEXT_WINDOW for example in FILTER_tokenized_train_sources.data['input_ids']])\n",
    "valid_src_val_indices = np.array([len(example) <= MAX_CONTEXT_WINDOW for example in FILTER_tokenized_val_sources.data['input_ids']])\n",
    "valid_src_test_indices = np.array([len(example) <= MAX_CONTEXT_WINDOW for example in FILTER_tokenized_test_sources.data['input_ids']])\n",
    "\n",
    "valid_tgt_train_indices = np.array([len(example) <= MAX_CONTEXT_WINDOW - 1 for example in FILTER_tokenized_train_targets.data['input_ids']])\n",
    "valid_tgt_val_indices = np.array([len(example) <= MAX_CONTEXT_WINDOW - 1 for example in FILTER_tokenized_val_targets.data['input_ids']])\n",
    "valid_tgt_test_indices = np.array([len(example) <= MAX_CONTEXT_WINDOW - 1 for example in FILTER_tokenized_test_targets.data['input_ids']])\n",
    "\n",
    "valid_train_df = train_df.iloc[valid_src_train_indices & valid_tgt_train_indices]\n",
    "valid_val_df = val_df.iloc[valid_src_val_indices & valid_tgt_val_indices]\n",
    "valid_test_df = test_df.iloc[valid_src_test_indices & valid_tgt_test_indices]\n",
    "\n",
    "print(f'With a max_context_window of {MAX_CONTEXT_WINDOW}...')\n",
    "print(f'The number of training samples went from {train_df.shape[0]} to {valid_train_df.shape[0]}')\n",
    "print(f'The number of validation samples went from {val_df.shape[0]} to {valid_val_df.shape[0]}')\n",
    "print(f'The number of test samples went from {test_df.shape[0]} to {valid_test_df.shape[0]}')"
   ]
  },
  {
   "cell_type": "code",
   "execution_count": 152,
   "id": "686aeb95",
   "metadata": {},
   "outputs": [],
   "source": [
    "tokenized_train_sources = pretrained_bpe_tokenizer(\n",
    "    valid_train_df['dialogue'].tolist(),\n",
    "    add_special_tokens = False\n",
    ")\n",
    "\n",
    "tokenized_train_targets = pretrained_bpe_tokenizer(\n",
    "    ('<SOS> ' + valid_train_df['summary']).tolist(),\n",
    "    add_special_tokens = False\n",
    ")\n",
    "\n",
    "tokenized_train_labels = pretrained_bpe_tokenizer(\n",
    "    (valid_train_df['summary'] + ' <EOS>').tolist(),\n",
    "    add_special_tokens = False\n",
    ")\n",
    "\n",
    "tokenized_val_sources = pretrained_bpe_tokenizer(\n",
    "    valid_val_df['dialogue'].tolist(),\n",
    "    add_special_tokens = False\n",
    ")\n",
    "\n",
    "tokenized_val_targets = pretrained_bpe_tokenizer(\n",
    "    ('<SOS> ' + valid_val_df['summary']).tolist(),\n",
    "    add_special_tokens = False\n",
    ")\n",
    "\n",
    "tokenized_val_labels = pretrained_bpe_tokenizer(\n",
    "    (valid_val_df['summary'] + ' <EOS>').tolist(),\n",
    "    add_special_tokens = False\n",
    ")\n",
    "\n",
    "tokenized_test_sources = pretrained_bpe_tokenizer(\n",
    "    valid_test_df['dialogue'].tolist(),\n",
    "    add_special_tokens = False\n",
    ")\n",
    "\n",
    "tokenized_test_targets = pretrained_bpe_tokenizer(\n",
    "    ('<SOS> ' + valid_test_df['summary']).tolist(),\n",
    "    add_special_tokens = False\n",
    ")\n",
    "\n",
    "tokenized_test_labels = pretrained_bpe_tokenizer(\n",
    "    (valid_test_df['summary'] + ' <EOS>').tolist(),\n",
    "    add_special_tokens = False\n",
    ")"
   ]
  },
  {
   "cell_type": "code",
   "execution_count": 153,
   "id": "1ca22ea2",
   "metadata": {},
   "outputs": [
    {
     "name": "stdout",
     "output_type": "stream",
     "text": [
      "[1607, 30, 273, 274, 598, 307, 225, 3972, 18, 822, 286, 449, 441, 35, 206, 203, 2115, 30, 893, 5, 206, 203, 1607, 30, 273, 419, 933, 286, 606, 1677]\n"
     ]
    }
   ],
   "source": [
    "print(tokenized_train_sources.data['input_ids'][0])"
   ]
  },
  {
   "cell_type": "code",
   "execution_count": null,
   "id": "28756f1e",
   "metadata": {},
   "outputs": [],
   "source": [
    "train_ds = TextSummarizationDataset(tokenized_train_sources.data['input_ids'], tokenized_train_targets.data['input_ids'], tokenized_train_labels.data['input_ids'])\n",
    "val_ds = TextSummarizationDataset(tokenized_val_sources.data['input_ids'], tokenized_val_targets.data['input_ids'], tokenized_val_labels.data['input_ids'])\n",
    "test_ds = TextSummarizationDataset(tokenized_test_sources.data['input_ids'], tokenized_test_targets.data['input_ids'], tokenized_test_labels.data['input_ids'])\n",
    "\n",
    "# NOTE: Option to use HuggingFace DataCollatorWithPadding : requires changing TextSummarizationDataset __getitem__\n",
    "train_dataloader = DataLoader(train_ds, batch_size = BATCH_SIZE, shuffle = True, collate_fn = partial(padding_collate_fn, pad_token_idx = PAD_TOKEN_IDX))\n",
    "val_dataloader = DataLoader(val_ds, batch_size = BATCH_SIZE, collate_fn = partial(padding_collate_fn, pad_token_idx = PAD_TOKEN_IDX))\n",
    "test_dataloader = DataLoader(test_ds, batch_size = BATCH_SIZE, collate_fn = partial(padding_collate_fn, pad_token_idx = PAD_TOKEN_IDX))"
   ]
  },
  {
   "cell_type": "code",
   "execution_count": 164,
   "id": "f5508a0f",
   "metadata": {},
   "outputs": [
    {
     "name": "stdout",
     "output_type": "stream",
     "text": [
      "([1192, 30, 556, 286, 268, 3884, 981, 35, 206, 203, 1192, 30, 653, 1298, 75, 541, 93, 35, 206, 203, 845, 30, 3088, 206, 203, 845, 30, 263, 856, 2404, 643, 275, 376, 297, 1496, 382, 206, 203, 1192, 30, 1198, 307, 483, 725, 206, 203, 845, 30, 798, 317, 263, 1131, 1067, 273, 276, 647, 286, 395], [0, 2118, 314, 3884, 372, 919, 653, 275, 1298, 1421, 93, 18, 2853, 3302, 538, 725, 18]) [845, 314, 3884, 372, 919, 653, 275, 1298, 1421, 93, 18, 2853, 3302, 538, 725, 18, 225, 1]\n",
      "([1264, 30, 1110, 286, 395, 346, 1769, 69, 1810, 72, 327, 275, 3208, 690, 203, 850, 70, 2239, 30, 533, 690, 203, 3614, 30, 273, 602, 1203, 415, 304, 203, 3614, 30, 1281, 442, 2988, 276, 307, 317, 422, 297, 265, 3707, 681, 203, 1264, 30, 636, 1046, 338, 655, 203, 1264, 30, 636, 1636, 280, 3384, 1729, 81, 1056, 379, 1940, 420, 1659, 327, 275, 359, 268, 1113, 203, 1264, 30, 3074, 263, 1656, 337, 1076, 457, 730, 225, 203, 850, 70, 2239, 30, 1438, 936, 323, 2080, 225, 225], [0, 1769, 69, 1636, 280, 1810, 327, 275, 3208, 317, 422, 297, 265, 3707, 681, 18, 636, 360, 342, 1729, 81, 1056, 379, 1940, 420, 1659, 327, 275, 359, 268, 1113, 375, 263, 1656, 337, 1076, 457, 730, 18]) [1715, 1636, 280, 1810, 327, 275, 3208, 317, 422, 297, 265, 3707, 681, 18, 636, 360, 342, 1729, 81, 1056, 379, 1940, 420, 1659, 327, 275, 359, 268, 1113, 375, 263, 1656, 337, 1076, 457, 730, 18, 225, 1]\n",
      "tensor([[1192,   30,  556,  286,  268, 3884,  981,   35,  206,  203, 1192,   30,\n",
      "          653, 1298,   75,  541,   93,   35,  206,  203,  845,   30, 3088,  206,\n",
      "          203,  845,   30,  263,  856, 2404,  643,  275,  376,  297, 1496,  382,\n",
      "          206,  203, 1192,   30, 1198,  307,  483,  725,  206,  203,  845,   30,\n",
      "          798,  317,  263, 1131, 1067,  273,  276,  647,  286,  395,    2,    2,\n",
      "            2,    2,    2,    2,    2,    2,    2,    2,    2,    2,    2,    2,\n",
      "            2,    2,    2,    2,    2,    2,    2,    2,    2,    2,    2,    2,\n",
      "            2,    2,    2,    2,    2,    2,    2],\n",
      "        [1264,   30, 1110,  286,  395,  346, 1769,   69, 1810,   72,  327,  275,\n",
      "         3208,  690,  203,  850,   70, 2239,   30,  533,  690,  203, 3614,   30,\n",
      "          273,  602, 1203,  415,  304,  203, 3614,   30, 1281,  442, 2988,  276,\n",
      "          307,  317,  422,  297,  265, 3707,  681,  203, 1264,   30,  636, 1046,\n",
      "          338,  655,  203, 1264,   30,  636, 1636,  280, 3384, 1729,   81, 1056,\n",
      "          379, 1940,  420, 1659,  327,  275,  359,  268, 1113,  203, 1264,   30,\n",
      "         3074,  263, 1656,  337, 1076,  457,  730,  225,  203,  850,   70, 2239,\n",
      "           30, 1438,  936,  323, 2080,  225,  225]])\n",
      "tensor([[   0, 2118,  314, 3884,  372,  919,  653,  275, 1298, 1421,   93,   18,\n",
      "         2853, 3302,  538,  725,   18,    2,    2,    2,    2,    2,    2,    2,\n",
      "            2,    2,    2,    2,    2,    2,    2,    2,    2,    2,    2,    2,\n",
      "            2,    2,    2],\n",
      "        [   0, 1769,   69, 1636,  280, 1810,  327,  275, 3208,  317,  422,  297,\n",
      "          265, 3707,  681,   18,  636,  360,  342, 1729,   81, 1056,  379, 1940,\n",
      "          420, 1659,  327,  275,  359,  268, 1113,  375,  263, 1656,  337, 1076,\n",
      "          457,  730,   18]])\n",
      "tensor([[ 845,  314, 3884,  372,  919,  653,  275, 1298, 1421,   93,   18, 2853,\n",
      "         3302,  538,  725,   18,  225,    1,    2,    2,    2,    2,    2,    2,\n",
      "            2,    2,    2,    2,    2,    2,    2,    2,    2,    2,    2,    2,\n",
      "            2,    2,    2],\n",
      "        [1715, 1636,  280, 1810,  327,  275, 3208,  317,  422,  297,  265, 3707,\n",
      "          681,   18,  636,  360,  342, 1729,   81, 1056,  379, 1940,  420, 1659,\n",
      "          327,  275,  359,  268, 1113,  375,  263, 1656,  337, 1076,  457,  730,\n",
      "           18,  225,    1]])\n"
     ]
    }
   ],
   "source": [
    "(source, target), label = next(iter(train_dataloader))\n",
    "print(source)\n",
    "print(target)\n",
    "print(label)"
   ]
  }
 ],
 "metadata": {
  "kernelspec": {
   "display_name": "env",
   "language": "python",
   "name": "python3"
  },
  "language_info": {
   "codemirror_mode": {
    "name": "ipython",
    "version": 3
   },
   "file_extension": ".py",
   "mimetype": "text/x-python",
   "name": "python",
   "nbconvert_exporter": "python",
   "pygments_lexer": "ipython3",
   "version": "3.12.2"
  }
 },
 "nbformat": 4,
 "nbformat_minor": 5
}
