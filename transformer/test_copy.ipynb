{
 "cells": [
  {
   "cell_type": "code",
   "execution_count": 141,
   "metadata": {},
   "outputs": [
    {
     "name": "stdout",
     "output_type": "stream",
     "text": [
      "The autoreload extension is already loaded. To reload it, use:\n",
      "  %reload_ext autoreload\n"
     ]
    }
   ],
   "source": [
    "%load_ext autoreload\n",
    "%autoreload 2"
   ]
  },
  {
   "cell_type": "code",
   "execution_count": 142,
   "metadata": {},
   "outputs": [],
   "source": [
    "import sys\n",
    "import os\n",
    "import torch\n",
    "from functools import partial\n",
    "from torch.utils.data import Dataset, DataLoader\n",
    "from tqdm import tqdm\n",
    "\n",
    "import torch.nn as nn\n",
    "from embedding import CustomEmbedding\n",
    "from transformers import EncoderDecoderTransformer\n",
    "from utils import padding_collate_fn\n",
    "\n",
    "from generate_data import RandomIntegerDataset"
   ]
  },
  {
   "cell_type": "code",
   "execution_count": 143,
   "metadata": {},
   "outputs": [
    {
     "name": "stdout",
     "output_type": "stream",
     "text": [
      "tensor([[-0.5781,  0.9327,  0.5729,  0.6851,  0.2089, -1.3305, -0.0123, -0.8313,\n",
      "          1.9145,  2.0170,  1.6838,  0.5228, -1.3631, -0.1331, -0.5326, -0.4767],\n",
      "        [-1.3818,  2.3472,  0.8374, -0.0409, -0.5615,  0.5074, -0.4298, -0.0503,\n",
      "          1.6774,  0.9718, -0.2240, -0.0522,  0.4305, -0.8755, -1.4340,  1.2245]],\n",
      "       grad_fn=<EmbeddingBackward0>)\n"
     ]
    }
   ],
   "source": [
    "n_real_tokens = 10\n",
    "PAD_TOKEN_IDX = n_real_tokens\n",
    "SOS_TOKEN_IDX = n_real_tokens + 1\n",
    "EOS_TOKEN_IDX = n_real_tokens + 2\n",
    "vocab_size = n_real_tokens + 3\n",
    "D_MODEL = 16\n",
    "\n",
    "embeddings = CustomEmbedding(vocab_size = vocab_size + 3, d_model = D_MODEL) # 3 = PAD, SOS, EOS\n",
    "\n",
    "indices = torch.tensor([1,9])\n",
    "\n",
    "# print(embeddings.embeddings.weight)\n",
    "print(embeddings.embeddings(indices))"
   ]
  },
  {
   "cell_type": "code",
   "execution_count": null,
   "metadata": {},
   "outputs": [],
   "source": [
    "MAX_CONTEXT_WINDOW = 50\n",
    "\n",
    "BATCH_SIZE = 32\n",
    "MIN_SEQ_LEN = 2\n",
    "MAX_SEQ_LEN = min(10, MAX_CONTEXT_WINDOW)\n",
    "\n",
    "train_rand_ds = RandomIntegerDataset(MIN_SEQ_LEN, MAX_SEQ_LEN, 10000, [i for i in range(10)])\n",
    "train_dataloader = DataLoader(train_rand_ds, batch_size = BATCH_SIZE, shuffle = True, collate_fn = partial(padding_collate_fn, pad_token_idx = PAD_TOKEN_IDX))"
   ]
  },
  {
   "cell_type": "code",
   "execution_count": null,
   "metadata": {},
   "outputs": [
    {
     "name": "stdout",
     "output_type": "stream",
     "text": [
      "tensor([[ 5,  7,  5,  9,  0,  2, 10, 10, 10, 10],\n",
      "        [ 1,  0,  8,  0,  5,  9,  0,  1,  8,  4],\n",
      "        [ 0,  4,  8,  5,  2,  3, 10, 10, 10, 10],\n",
      "        [ 8,  3,  4,  4,  4,  0,  8, 10, 10, 10],\n",
      "        [ 7,  9,  2,  1,  6,  0, 10, 10, 10, 10],\n",
      "        [ 6,  0,  6,  6,  6,  2,  7,  0,  4, 10],\n",
      "        [ 0,  1, 10, 10, 10, 10, 10, 10, 10, 10],\n",
      "        [ 4,  7, 10, 10, 10, 10, 10, 10, 10, 10],\n",
      "        [ 1,  3,  8, 10, 10, 10, 10, 10, 10, 10],\n",
      "        [ 1,  7,  3,  6,  7,  4,  1, 10, 10, 10],\n",
      "        [ 3,  8,  2,  1, 10, 10, 10, 10, 10, 10],\n",
      "        [ 3,  7,  9,  1,  6,  0,  5,  5,  9, 10],\n",
      "        [ 5,  2,  8,  9,  8,  0,  5, 10, 10, 10],\n",
      "        [ 5,  8, 10, 10, 10, 10, 10, 10, 10, 10],\n",
      "        [ 2,  5,  8,  6, 10, 10, 10, 10, 10, 10],\n",
      "        [ 9,  2,  2,  7,  5,  7,  4,  5,  1, 10],\n",
      "        [ 2,  7,  6,  8,  4,  7, 10, 10, 10, 10],\n",
      "        [ 2,  7,  1,  5,  6,  2,  4,  0, 10, 10],\n",
      "        [ 3,  0,  5,  0,  6,  4,  2, 10, 10, 10],\n",
      "        [ 0,  8,  8, 10, 10, 10, 10, 10, 10, 10],\n",
      "        [ 7,  1,  6,  9, 10, 10, 10, 10, 10, 10],\n",
      "        [ 2,  6,  1,  9,  1, 10, 10, 10, 10, 10],\n",
      "        [ 6,  5,  0,  6,  5, 10, 10, 10, 10, 10],\n",
      "        [ 6,  0,  7,  1,  9,  6,  4,  4,  8,  2],\n",
      "        [ 7,  6,  1,  6,  5, 10, 10, 10, 10, 10],\n",
      "        [ 0,  1,  4,  6,  2,  4,  7,  6,  0,  4],\n",
      "        [ 7,  3,  5,  1,  2,  0,  4, 10, 10, 10],\n",
      "        [ 4,  2,  1,  2,  4,  9,  5,  0,  7,  9],\n",
      "        [ 0,  9, 10, 10, 10, 10, 10, 10, 10, 10],\n",
      "        [ 4,  6,  1,  5,  4, 10, 10, 10, 10, 10],\n",
      "        [ 5,  7,  3,  9,  1,  5,  7,  1, 10, 10],\n",
      "        [ 4,  7,  4,  1,  0,  0,  1, 10, 10, 10]])\n",
      "tensor([[11,  0,  2,  5,  5,  7,  9, 10, 10, 10, 10],\n",
      "        [11,  0,  0,  0,  1,  1,  4,  5,  8,  8,  9],\n",
      "        [11,  0,  2,  3,  4,  5,  8, 10, 10, 10, 10],\n",
      "        [11,  0,  3,  4,  4,  4,  8,  8, 10, 10, 10],\n",
      "        [11,  0,  1,  2,  6,  7,  9, 10, 10, 10, 10],\n",
      "        [11,  0,  0,  2,  4,  6,  6,  6,  6,  7, 10],\n",
      "        [11,  0,  1, 10, 10, 10, 10, 10, 10, 10, 10],\n",
      "        [11,  4,  7, 10, 10, 10, 10, 10, 10, 10, 10],\n",
      "        [11,  1,  3,  8, 10, 10, 10, 10, 10, 10, 10],\n",
      "        [11,  1,  1,  3,  4,  6,  7,  7, 10, 10, 10],\n",
      "        [11,  1,  2,  3,  8, 10, 10, 10, 10, 10, 10],\n",
      "        [11,  0,  1,  3,  5,  5,  6,  7,  9,  9, 10],\n",
      "        [11,  0,  2,  5,  5,  8,  8,  9, 10, 10, 10],\n",
      "        [11,  5,  8, 10, 10, 10, 10, 10, 10, 10, 10],\n",
      "        [11,  2,  5,  6,  8, 10, 10, 10, 10, 10, 10],\n",
      "        [11,  1,  2,  2,  4,  5,  5,  7,  7,  9, 10],\n",
      "        [11,  2,  4,  6,  7,  7,  8, 10, 10, 10, 10],\n",
      "        [11,  0,  1,  2,  2,  4,  5,  6,  7, 10, 10],\n",
      "        [11,  0,  0,  2,  3,  4,  5,  6, 10, 10, 10],\n",
      "        [11,  0,  8,  8, 10, 10, 10, 10, 10, 10, 10],\n",
      "        [11,  1,  6,  7,  9, 10, 10, 10, 10, 10, 10],\n",
      "        [11,  1,  1,  2,  6,  9, 10, 10, 10, 10, 10],\n",
      "        [11,  0,  5,  5,  6,  6, 10, 10, 10, 10, 10],\n",
      "        [11,  0,  1,  2,  4,  4,  6,  6,  7,  8,  9],\n",
      "        [11,  1,  5,  6,  6,  7, 10, 10, 10, 10, 10],\n",
      "        [11,  0,  0,  1,  2,  4,  4,  4,  6,  6,  7],\n",
      "        [11,  0,  1,  2,  3,  4,  5,  7, 10, 10, 10],\n",
      "        [11,  0,  1,  2,  2,  4,  4,  5,  7,  9,  9],\n",
      "        [11,  0,  9, 10, 10, 10, 10, 10, 10, 10, 10],\n",
      "        [11,  1,  4,  4,  5,  6, 10, 10, 10, 10, 10],\n",
      "        [11,  1,  1,  3,  5,  5,  7,  7,  9, 10, 10],\n",
      "        [11,  0,  0,  1,  1,  4,  4,  7, 10, 10, 10]])\n",
      "tensor([[ 0,  2,  5,  5,  7,  9, 12, 10, 10, 10, 10],\n",
      "        [ 0,  0,  0,  1,  1,  4,  5,  8,  8,  9, 12],\n",
      "        [ 0,  2,  3,  4,  5,  8, 12, 10, 10, 10, 10],\n",
      "        [ 0,  3,  4,  4,  4,  8,  8, 12, 10, 10, 10],\n",
      "        [ 0,  1,  2,  6,  7,  9, 12, 10, 10, 10, 10],\n",
      "        [ 0,  0,  2,  4,  6,  6,  6,  6,  7, 12, 10],\n",
      "        [ 0,  1, 12, 10, 10, 10, 10, 10, 10, 10, 10],\n",
      "        [ 4,  7, 12, 10, 10, 10, 10, 10, 10, 10, 10],\n",
      "        [ 1,  3,  8, 12, 10, 10, 10, 10, 10, 10, 10],\n",
      "        [ 1,  1,  3,  4,  6,  7,  7, 12, 10, 10, 10],\n",
      "        [ 1,  2,  3,  8, 12, 10, 10, 10, 10, 10, 10],\n",
      "        [ 0,  1,  3,  5,  5,  6,  7,  9,  9, 12, 10],\n",
      "        [ 0,  2,  5,  5,  8,  8,  9, 12, 10, 10, 10],\n",
      "        [ 5,  8, 12, 10, 10, 10, 10, 10, 10, 10, 10],\n",
      "        [ 2,  5,  6,  8, 12, 10, 10, 10, 10, 10, 10],\n",
      "        [ 1,  2,  2,  4,  5,  5,  7,  7,  9, 12, 10],\n",
      "        [ 2,  4,  6,  7,  7,  8, 12, 10, 10, 10, 10],\n",
      "        [ 0,  1,  2,  2,  4,  5,  6,  7, 12, 10, 10],\n",
      "        [ 0,  0,  2,  3,  4,  5,  6, 12, 10, 10, 10],\n",
      "        [ 0,  8,  8, 12, 10, 10, 10, 10, 10, 10, 10],\n",
      "        [ 1,  6,  7,  9, 12, 10, 10, 10, 10, 10, 10],\n",
      "        [ 1,  1,  2,  6,  9, 12, 10, 10, 10, 10, 10],\n",
      "        [ 0,  5,  5,  6,  6, 12, 10, 10, 10, 10, 10],\n",
      "        [ 0,  1,  2,  4,  4,  6,  6,  7,  8,  9, 12],\n",
      "        [ 1,  5,  6,  6,  7, 12, 10, 10, 10, 10, 10],\n",
      "        [ 0,  0,  1,  2,  4,  4,  4,  6,  6,  7, 12],\n",
      "        [ 0,  1,  2,  3,  4,  5,  7, 12, 10, 10, 10],\n",
      "        [ 0,  1,  2,  2,  4,  4,  5,  7,  9,  9, 12],\n",
      "        [ 0,  9, 12, 10, 10, 10, 10, 10, 10, 10, 10],\n",
      "        [ 1,  4,  4,  5,  6, 12, 10, 10, 10, 10, 10],\n",
      "        [ 1,  1,  3,  5,  5,  7,  7,  9, 12, 10, 10],\n",
      "        [ 0,  0,  1,  1,  4,  4,  7, 12, 10, 10, 10]])\n"
     ]
    }
   ],
   "source": [
    "input, label = next(iter(train_dataloader))\n",
    "print(input[0])\n",
    "print(input[1])\n",
    "print(label)"
   ]
  },
  {
   "cell_type": "code",
   "execution_count": 146,
   "metadata": {},
   "outputs": [],
   "source": [
    "loss_fn = nn.CrossEntropyLoss(ignore_index = PAD_TOKEN_IDX, reduction = 'sum')\n",
    "\n",
    "model = EncoderDecoderTransformer(\n",
    "                    embeddings = embeddings, \n",
    "                    vocab_size = vocab_size, \n",
    "                    d_model = D_MODEL, \n",
    "                    num_attention_heads = 4, \n",
    "                    num_encoder_layers = 1, \n",
    "                    num_decoder_layers = 1, \n",
    "                    dim_feedforward = 32, \n",
    "                    max_context_window = MAX_CONTEXT_WINDOW)\n",
    "\n",
    "optim = torch.optim.SGD(params = model.parameters(), lr = 1e-3, momentum = 0.9, weight_decay = 1e-4)"
   ]
  },
  {
   "cell_type": "code",
   "execution_count": 147,
   "metadata": {},
   "outputs": [],
   "source": [
    "def run_train_epoch(dataloader: DataLoader, model: nn.Module, loss_fn: nn.Module, optimizer: torch.optim.Optimizer, calculate_sequence_accuracy: bool = False, calculate_token_accuracy: bool = False):\n",
    "    \"\"\"\n",
    "\n",
    "    \"\"\"\n",
    "    model.train()\n",
    "\n",
    "    num_sequences = len(dataloader.dataset)\n",
    "    num_tokens = 0\n",
    "\n",
    "    epoch_loss = 0.0\n",
    "    total_correct_sequences = 0\n",
    "    total_correct_tokens = 0\n",
    "\n",
    "    for i, ((source, target), label) in tqdm(enumerate(dataloader)):\n",
    "\n",
    "        # FORWARD\n",
    "        pred_logits = model(source, target)\n",
    "\n",
    "        # pred_logits.shape: [batch_size, seq_len, vocab_size]\n",
    "        # label.shape: [batch_size, seq_len]\n",
    "\n",
    "        # CrossEntropyLoss (loss_fn) only takes 2D predictions (n_batch * seq_len, vocab_size) and 1D labels (n_batch * seq_len)\n",
    "        batch_loss = loss_fn(pred_logits.view(-1, vocab_size), label.view(-1))\n",
    "\n",
    "        # LOG\n",
    "        with torch.no_grad():\n",
    "            epoch_loss += batch_loss.item()\n",
    "\n",
    "            predictions = torch.argmax(pred_logits, dim = -1) # predictions.shape: [batch_size, seq_len]\n",
    "            match_matrix = torch.eq(predictions, label)\n",
    "\n",
    "            if calculate_sequence_accuracy:\n",
    "                num_correct_sequences = torch.all(match_matrix, dim = 1).sum()\n",
    "                total_correct_sequences += num_correct_sequences\n",
    "\n",
    "            if calculate_token_accuracy:\n",
    "                num_correct_tokens = match_matrix.sum()      \n",
    "                total_correct_tokens += num_correct_tokens\n",
    "\n",
    "                num_tokens += torch.numel(label)\n",
    "\n",
    "        # BACKWARD\n",
    "        batch_loss.backward()\n",
    "\n",
    "        # OPTIMIZE\n",
    "        optimizer.step()\n",
    "        optimizer.zero_grad()\n",
    "\n",
    "    average_epoch_loss = epoch_loss / num_sequences\n",
    "    average_epoch_sequence_accuracy = total_correct_sequences.item() / num_sequences if calculate_sequence_accuracy else None\n",
    "    average_epoch_token_accuracy = total_correct_tokens.item() / num_tokens if calculate_token_accuracy else None\n",
    "\n",
    "    return average_epoch_loss, average_epoch_sequence_accuracy, average_epoch_token_accuracy\n",
    "\n",
    "def run_validation_loop(dataloader: DataLoader, model: nn.Module, loss_fn: nn.Module):\n",
    "    \n",
    "    model.eval()"
   ]
  },
  {
   "cell_type": "code",
   "execution_count": null,
   "metadata": {},
   "outputs": [
    {
     "name": "stderr",
     "output_type": "stream",
     "text": [
      "313it [00:02, 132.39it/s]\n",
      "313it [00:02, 139.02it/s]\n",
      "313it [00:02, 141.37it/s]\n",
      "313it [00:02, 139.09it/s]\n",
      "313it [00:02, 139.64it/s]\n",
      "313it [00:02, 142.65it/s]\n",
      "313it [00:02, 140.85it/s]\n",
      "313it [00:02, 142.84it/s]\n",
      "313it [00:02, 140.02it/s]\n",
      "313it [00:02, 141.48it/s]"
     ]
    },
    {
     "name": "stdout",
     "output_type": "stream",
     "text": [
      "[4.637418487930298, 2.723798373031616, 2.3811994663238525, 2.2533450035095215, 2.066298963546753, 1.928682300376892, 1.7139234970092774, 1.983107015800476, 1.8100524277687073, 1.660180486011505]\n",
      "[0.0027, 0.0088, 0.0121, 0.0165, 0.0192, 0.0229, 0.0284, 0.0229, 0.0277, 0.0282]\n",
      "[0.47013838310269485, 0.5406154294881144, 0.5519300801165331, 0.5564037705634007, 0.5648964863682753, 0.5685489739484791, 0.575278505897772, 0.5678714493809177, 0.5738677734090578, 0.5777036875091095]\n"
     ]
    },
    {
     "name": "stderr",
     "output_type": "stream",
     "text": [
      "\n"
     ]
    }
   ],
   "source": [
    "EPOCHS = 10\n",
    "\n",
    "training_losses = list()\n",
    "training_sequence_accuracies = list()\n",
    "training_token_accuracies = list()\n",
    "\n",
    "validation_losses = list()\n",
    "validation_sequence_accuracies = list()\n",
    "validation_token_accuracies = list()\n",
    "\n",
    "for i in range(EPOCHS):\n",
    "    # print(f'Running epoch {i+1}...')\n",
    "\n",
    "    training_loss, training_sequence_accuracy, training_token_accuracy = run_train_epoch(train_dataloader, model, loss_fn, optim, calculate_sequence_accuracy = True, calculate_token_accuracy = True)\n",
    "    training_losses.append(training_loss)\n",
    "    training_sequence_accuracies.append(training_sequence_accuracy)\n",
    "    training_token_accuracies.append(training_token_accuracy)\n",
    "\n",
    "    # validation_loss = run_validation_loop(dataloader, model, loss_fn)\n",
    "    # validation_losses.append(validation_loss)\n",
    "\n",
    "print(training_losses)\n",
    "print(training_sequence_accuracies)\n",
    "print(training_token_accuracies)\n",
    "\n",
    "print()\n",
    "\n",
    "print(validation_losses)\n",
    "print(validation_sequence_accuracies)\n",
    "print(validation_token_accuracies)"
   ]
  },
  {
   "cell_type": "code",
   "execution_count": null,
   "metadata": {},
   "outputs": [],
   "source": []
  }
 ],
 "metadata": {
  "kernelspec": {
   "display_name": "env",
   "language": "python",
   "name": "python3"
  },
  "language_info": {
   "codemirror_mode": {
    "name": "ipython",
    "version": 3
   },
   "file_extension": ".py",
   "mimetype": "text/x-python",
   "name": "python",
   "nbconvert_exporter": "python",
   "pygments_lexer": "ipython3",
   "version": "3.12.2"
  }
 },
 "nbformat": 4,
 "nbformat_minor": 2
}
