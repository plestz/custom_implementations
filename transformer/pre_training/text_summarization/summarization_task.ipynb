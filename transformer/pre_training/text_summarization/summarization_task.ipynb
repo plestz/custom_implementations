{
 "cells": [
  {
   "cell_type": "code",
   "execution_count": 26,
   "id": "f8197d66",
   "metadata": {},
   "outputs": [
    {
     "name": "stdout",
     "output_type": "stream",
     "text": [
      "The autoreload extension is already loaded. To reload it, use:\n",
      "  %reload_ext autoreload\n"
     ]
    }
   ],
   "source": [
    "%load_ext autoreload\n",
    "%autoreload 2"
   ]
  },
  {
   "cell_type": "code",
   "execution_count": null,
   "id": "48e3952b",
   "metadata": {},
   "outputs": [],
   "source": [
    "import sys\n",
    "from pathlib import Path\n",
    "\n",
    "# Get the parent directory (i.e. project root)\n",
    "project_root = Path().resolve().parent.parent \n",
    "sys.path.insert(0, str(project_root))\n",
    "\n",
    "import numpy as np\n",
    "import pandas as pd\n",
    "\n",
    "import torch\n",
    "import torch.nn as nn\n",
    "from torch.utils.data import DataLoader\n",
    "from functools import partial\n",
    "\n",
    "from tokenization.byte_pair_encoding.get_tokenizers import train_and_save_tokenizer_for, load_tokenizer_from\n",
    "\n",
    "from pre_training.text_summarization.dataset import TextSummarizationDataset\n",
    "\n",
    "from src.embedding import CustomEmbedding\n",
    "from src.transformer import EncoderDecoderTransformer\n",
    "from src.utils import padding_collate_fn"
   ]
  },
  {
   "cell_type": "code",
   "execution_count": 28,
   "id": "81921cff",
   "metadata": {},
   "outputs": [],
   "source": [
    "DF_DATA_PATH = '../../data/SAMSum/'\n",
    "\n",
    "BPE_IN_PATH = '../../data/SAMSum/train_summary_and_dialogue.txt'\n",
    "BPE_OUT_PATH = '../../tokenization/trained_tokenizers/SAMSum_BPE'"
   ]
  },
  {
   "cell_type": "code",
   "execution_count": 29,
   "id": "0a22ec33",
   "metadata": {},
   "outputs": [],
   "source": [
    "MAX_CONTEXT_WINDOW = 100\n",
    "\n",
    "BATCH_SIZE = 2\n",
    "\n",
    "D_MODEL = 16"
   ]
  },
  {
   "cell_type": "code",
   "execution_count": 30,
   "id": "73f11a25",
   "metadata": {},
   "outputs": [],
   "source": [
    "train_df = pd.read_json(DF_DATA_PATH + 'train_df.json', orient = 'records', lines = True)\n",
    "val_df = pd.read_json(DF_DATA_PATH + 'val_df.json', orient = 'records', lines = True)\n",
    "test_df = pd.read_json(DF_DATA_PATH + 'test_df.json', orient = 'records', lines = True)"
   ]
  },
  {
   "cell_type": "code",
   "execution_count": 31,
   "id": "319eede3",
   "metadata": {},
   "outputs": [
    {
     "name": "stdout",
     "output_type": "stream",
     "text": [
      "\n",
      "\n",
      "\n",
      "The vocab size is 4000.\n",
      "The pad token index is 2.\n"
     ]
    }
   ],
   "source": [
    "bpe_tokenizer = train_and_save_tokenizer_for(in_file_paths = [BPE_IN_PATH], out_file_dir_path = BPE_OUT_PATH, vocab_size = 4_000)\n",
    "pretrained_bpe_tokenizer = load_tokenizer_from(dir_path = BPE_OUT_PATH, model_max_length = 10000)\n",
    "\n",
    "VOCAB_SIZE = pretrained_bpe_tokenizer.vocab_size\n",
    "PAD_TOKEN_IDX = pretrained_bpe_tokenizer.pad_token_id\n",
    "\n",
    "print(f'The vocab size is {VOCAB_SIZE}.')\n",
    "print(f'The pad token index is {PAD_TOKEN_IDX}.')"
   ]
  },
  {
   "cell_type": "code",
   "execution_count": 32,
   "id": "fbc2c7a0",
   "metadata": {},
   "outputs": [],
   "source": [
    "embeddings = CustomEmbedding(VOCAB_SIZE, D_MODEL)"
   ]
  },
  {
   "cell_type": "code",
   "execution_count": 33,
   "id": "8a000cc4",
   "metadata": {},
   "outputs": [
    {
     "name": "stdout",
     "output_type": "stream",
     "text": [
      "With a max_context_window of 100...\n",
      "The number of training samples went from 14732 to 5580\n",
      "The number of validation samples went from 818 to 325\n",
      "The number of test samples went from 819 to 308\n"
     ]
    }
   ],
   "source": [
    "FILTER_tokenized_train_sources = pretrained_bpe_tokenizer(\n",
    "    train_df['dialogue'].tolist(),\n",
    "    add_special_tokens = False,\n",
    "    return_attention_mask = False,\n",
    "    return_token_type_ids = False\n",
    ")\n",
    "\n",
    "FILTER_tokenized_train_targets = pretrained_bpe_tokenizer(\n",
    "    train_df['summary'].tolist(),\n",
    "    add_special_tokens = False,\n",
    "    return_attention_mask = False,\n",
    "    return_token_type_ids = False\n",
    ")\n",
    "\n",
    "FILTER_tokenized_val_sources = pretrained_bpe_tokenizer(\n",
    "    val_df['dialogue'].tolist(),\n",
    "    add_special_tokens = False,\n",
    "    return_attention_mask = False,\n",
    "    return_token_type_ids = False\n",
    ")\n",
    "\n",
    "FILTER_tokenized_val_targets = pretrained_bpe_tokenizer(\n",
    "    val_df['summary'].tolist(),\n",
    "    add_special_tokens = False,\n",
    "    return_attention_mask = False,\n",
    "    return_token_type_ids = False\n",
    ")\n",
    "\n",
    "FILTER_tokenized_test_sources = pretrained_bpe_tokenizer(\n",
    "    test_df['dialogue'].tolist(),\n",
    "    add_special_tokens = False,\n",
    "    return_attention_mask = False,\n",
    "    return_token_type_ids = False\n",
    ")\n",
    "\n",
    "FILTER_tokenized_test_targets = pretrained_bpe_tokenizer(\n",
    "    test_df['summary'].tolist(),\n",
    "    add_special_tokens = False,\n",
    "    return_attention_mask = False,\n",
    "    return_token_type_ids = False\n",
    ")\n",
    "\n",
    "valid_src_train_indices = np.array([len(example) <= MAX_CONTEXT_WINDOW for example in FILTER_tokenized_train_sources.data['input_ids']])\n",
    "valid_src_val_indices = np.array([len(example) <= MAX_CONTEXT_WINDOW for example in FILTER_tokenized_val_sources.data['input_ids']])\n",
    "valid_src_test_indices = np.array([len(example) <= MAX_CONTEXT_WINDOW for example in FILTER_tokenized_test_sources.data['input_ids']])\n",
    "\n",
    "valid_tgt_train_indices = np.array([len(example) <= MAX_CONTEXT_WINDOW - 1 for example in FILTER_tokenized_train_targets.data['input_ids']])\n",
    "valid_tgt_val_indices = np.array([len(example) <= MAX_CONTEXT_WINDOW - 1 for example in FILTER_tokenized_val_targets.data['input_ids']])\n",
    "valid_tgt_test_indices = np.array([len(example) <= MAX_CONTEXT_WINDOW - 1 for example in FILTER_tokenized_test_targets.data['input_ids']])\n",
    "\n",
    "valid_train_df = train_df.iloc[valid_src_train_indices & valid_tgt_train_indices]\n",
    "valid_val_df = val_df.iloc[valid_src_val_indices & valid_tgt_val_indices]\n",
    "valid_test_df = test_df.iloc[valid_src_test_indices & valid_tgt_test_indices]\n",
    "\n",
    "print(f'With a max_context_window of {MAX_CONTEXT_WINDOW}...')\n",
    "print(f'The number of training samples went from {train_df.shape[0]} to {valid_train_df.shape[0]}')\n",
    "print(f'The number of validation samples went from {val_df.shape[0]} to {valid_val_df.shape[0]}')\n",
    "print(f'The number of test samples went from {test_df.shape[0]} to {valid_test_df.shape[0]}')"
   ]
  },
  {
   "cell_type": "code",
   "execution_count": 34,
   "id": "686aeb95",
   "metadata": {},
   "outputs": [],
   "source": [
    "tokenized_train_sources = pretrained_bpe_tokenizer(\n",
    "    valid_train_df['dialogue'].tolist(),\n",
    "    add_special_tokens = False,\n",
    "    return_attention_mask = False,\n",
    "    return_token_type_ids = False\n",
    ")\n",
    "\n",
    "tokenized_train_targets = pretrained_bpe_tokenizer(\n",
    "    ('<SOS> ' + valid_train_df['summary']).tolist(),\n",
    "    add_special_tokens = False,\n",
    "    return_attention_mask = False,\n",
    "    return_token_type_ids = False\n",
    ")\n",
    "\n",
    "tokenized_train_labels = pretrained_bpe_tokenizer(\n",
    "    (valid_train_df['summary'] + ' <EOS>').tolist(),\n",
    "    add_special_tokens = False,\n",
    "    return_attention_mask = False,\n",
    "    return_token_type_ids = False\n",
    ")\n",
    "\n",
    "tokenized_val_sources = pretrained_bpe_tokenizer(\n",
    "    valid_val_df['dialogue'].tolist(),\n",
    "    add_special_tokens = False,\n",
    "    return_attention_mask = False,\n",
    "    return_token_type_ids = False\n",
    ")\n",
    "\n",
    "tokenized_val_targets = pretrained_bpe_tokenizer(\n",
    "    ('<SOS> ' + valid_val_df['summary']).tolist(),\n",
    "    add_special_tokens = False,\n",
    "    return_attention_mask = False,\n",
    "    return_token_type_ids = False\n",
    ")\n",
    "\n",
    "tokenized_val_labels = pretrained_bpe_tokenizer(\n",
    "    (valid_val_df['summary'] + ' <EOS>').tolist(),\n",
    "    add_special_tokens = False,\n",
    "    return_attention_mask = False,\n",
    "    return_token_type_ids = False\n",
    ")\n",
    "\n",
    "tokenized_test_sources = pretrained_bpe_tokenizer(\n",
    "    valid_test_df['dialogue'].tolist(),\n",
    "    add_special_tokens = False,\n",
    "    return_attention_mask = False,\n",
    "    return_token_type_ids = False\n",
    ")\n",
    "\n",
    "tokenized_test_targets = pretrained_bpe_tokenizer(\n",
    "    ('<SOS> ' + valid_test_df['summary']).tolist(),\n",
    "    add_special_tokens = False,\n",
    "    return_attention_mask = False,\n",
    "    return_token_type_ids = False\n",
    ")\n",
    "\n",
    "tokenized_test_labels = pretrained_bpe_tokenizer(\n",
    "    (valid_test_df['summary'] + ' <EOS>').tolist(),\n",
    "    add_special_tokens = False,\n",
    "    return_attention_mask = False,\n",
    "    return_token_type_ids = False\n",
    ")"
   ]
  },
  {
   "cell_type": "code",
   "execution_count": 35,
   "id": "28756f1e",
   "metadata": {},
   "outputs": [],
   "source": [
    "train_ds = TextSummarizationDataset(tokenized_train_sources.data['input_ids'], tokenized_train_targets.data['input_ids'], tokenized_train_labels.data['input_ids'])\n",
    "val_ds = TextSummarizationDataset(tokenized_val_sources.data['input_ids'], tokenized_val_targets.data['input_ids'], tokenized_val_labels.data['input_ids'])\n",
    "test_ds = TextSummarizationDataset(tokenized_test_sources.data['input_ids'], tokenized_test_targets.data['input_ids'], tokenized_test_labels.data['input_ids'])\n",
    "\n",
    "# NOTE: Option to use HuggingFace DataCollatorWithPadding : requires changing TextSummarizationDataset __getitem__\n",
    "train_dataloader = DataLoader(train_ds, batch_size = BATCH_SIZE, shuffle = True, collate_fn = partial(padding_collate_fn, pad_token_idx = PAD_TOKEN_IDX))\n",
    "val_dataloader = DataLoader(val_ds, batch_size = BATCH_SIZE, collate_fn = partial(padding_collate_fn, pad_token_idx = PAD_TOKEN_IDX))\n",
    "test_dataloader = DataLoader(test_ds, batch_size = BATCH_SIZE, collate_fn = partial(padding_collate_fn, pad_token_idx = PAD_TOKEN_IDX))"
   ]
  },
  {
   "cell_type": "code",
   "execution_count": 36,
   "id": "f5508a0f",
   "metadata": {},
   "outputs": [
    {
     "name": "stdout",
     "output_type": "stream",
     "text": [
      "([1898, 1183, 30, 2409, 5, 925, 343, 5, 206, 203, 1179, 30, 2023, 69, 5, 697, 518, 1943, 388, 1806, 614, 18, 206, 203, 1898, 1183, 30, 1033, 407, 359, 3230, 510, 442, 419, 383, 470, 548, 5, 1453], [0, 409, 289, 1183, 309, 2545, 372, 359, 3230, 365, 263, 936, 314, 261, 2144, 18]) [1898, 1183, 309, 2545, 372, 359, 3230, 365, 263, 936, 314, 261, 2144, 18, 225, 1]\n",
      "([3615, 30, 1124, 381, 273, 552, 1016, 1423, 35, 206, 203, 40, 1038, 30, 571, 5, 225, 206, 203, 3615, 30, 1059, 354, 40, 928, 317, 2642, 206, 203, 40, 1038, 30, 709, 820, 16, 362, 280, 1948, 476, 403, 1403, 2353, 206, 203, 3615, 30, 3020, 499, 354, 40], [0, 421, 2925, 351, 552, 365, 1016, 1423, 16, 1097, 351, 716, 409, 1038, 1948, 476, 538, 1403, 18]) [3615, 351, 552, 365, 1016, 1423, 16, 1097, 351, 716, 409, 1038, 1948, 476, 538, 1403, 18, 225, 1]\n",
      "tensor([[1898, 1183,   30, 2409,    5,  925,  343,    5,  206,  203, 1179,   30,\n",
      "         2023,   69,    5,  697,  518, 1943,  388, 1806,  614,   18,  206,  203,\n",
      "         1898, 1183,   30, 1033,  407,  359, 3230,  510,  442,  419,  383,  470,\n",
      "          548,    5, 1453,    2,    2,    2,    2,    2,    2,    2,    2,    2,\n",
      "            2,    2],\n",
      "        [3615,   30, 1124,  381,  273,  552, 1016, 1423,   35,  206,  203,   40,\n",
      "         1038,   30,  571,    5,  225,  206,  203, 3615,   30, 1059,  354,   40,\n",
      "          928,  317, 2642,  206,  203,   40, 1038,   30,  709,  820,   16,  362,\n",
      "          280, 1948,  476,  403, 1403, 2353,  206,  203, 3615,   30, 3020,  499,\n",
      "          354,   40]])\n",
      "tensor([[   0,  409,  289, 1183,  309, 2545,  372,  359, 3230,  365,  263,  936,\n",
      "          314,  261, 2144,   18,    2,    2,    2],\n",
      "        [   0,  421, 2925,  351,  552,  365, 1016, 1423,   16, 1097,  351,  716,\n",
      "          409, 1038, 1948,  476,  538, 1403,   18]])\n",
      "tensor([[1898, 1183,  309, 2545,  372,  359, 3230,  365,  263,  936,  314,  261,\n",
      "         2144,   18,  225,    1,    2,    2,    2],\n",
      "        [3615,  351,  552,  365, 1016, 1423,   16, 1097,  351,  716,  409, 1038,\n",
      "         1948,  476,  538, 1403,   18,  225,    1]])\n"
     ]
    }
   ],
   "source": [
    "(source, target), label = next(iter(train_dataloader))\n",
    "print(source)\n",
    "print(target)\n",
    "print(label)"
   ]
  },
  {
   "cell_type": "code",
   "execution_count": 37,
   "id": "9399cf5d",
   "metadata": {},
   "outputs": [],
   "source": [
    "loss_fn = nn.CrossEntropyLoss(ignore_index = PAD_TOKEN_IDX, reduction = 'sum')\n",
    "\n",
    "model = EncoderDecoderTransformer(\n",
    "    embeddings = embeddings,\n",
    "    vocab_size = VOCAB_SIZE,\n",
    "    d_model = D_MODEL,\n",
    "    num_attention_heads = 4,\n",
    "    num_encoder_layers = 1,\n",
    "    num_decoder_layers = 1,\n",
    "    dim_feedforward = 32,\n",
    "    dropout = 0.0,\n",
    "    max_context_window = MAX_CONTEXT_WINDOW,\n",
    "    use_pre_lnorm = True\n",
    ")\n",
    "\n",
    "optim = torch.optim.SGD(model.parameters(), lr = 1e-4, momentum = 0.9, weight_decay = 1e-4)"
   ]
  }
 ],
 "metadata": {
  "kernelspec": {
   "display_name": "env",
   "language": "python",
   "name": "python3"
  },
  "language_info": {
   "codemirror_mode": {
    "name": "ipython",
    "version": 3
   },
   "file_extension": ".py",
   "mimetype": "text/x-python",
   "name": "python",
   "nbconvert_exporter": "python",
   "pygments_lexer": "ipython3",
   "version": "3.12.2"
  }
 },
 "nbformat": 4,
 "nbformat_minor": 5
}
