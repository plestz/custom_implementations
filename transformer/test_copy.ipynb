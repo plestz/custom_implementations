{
 "cells": [
  {
   "cell_type": "code",
   "execution_count": 1,
   "metadata": {},
   "outputs": [],
   "source": [
    "%load_ext autoreload\n",
    "%autoreload 2"
   ]
  },
  {
   "cell_type": "code",
   "execution_count": 15,
   "metadata": {},
   "outputs": [],
   "source": [
    "import sys\n",
    "import os\n",
    "import torch\n",
    "from functools import partial\n",
    "from torch.utils.data import Dataset, DataLoader\n",
    "\n",
    "import torch.nn as nn\n",
    "from embedding import CustomEmbedding\n",
    "from transformers import EncoderDecoderTransformer\n",
    "from utils import padding_collate_fn\n",
    "\n",
    "from generate_data import RandomIntegerDataset"
   ]
  },
  {
   "cell_type": "code",
   "execution_count": 16,
   "metadata": {},
   "outputs": [
    {
     "name": "stdout",
     "output_type": "stream",
     "text": [
      "tensor([[-1.3423,  0.7971, -0.9860, -0.9616, -0.0817,  0.8046, -0.8727,  0.9604,\n",
      "          0.9754,  0.2429,  1.7459, -0.2746, -0.2651, -0.1627, -1.3972,  0.2668],\n",
      "        [-1.0464, -0.2298, -0.7569,  0.7564, -1.9449,  2.0051, -0.0415,  0.5735,\n",
      "         -1.5901, -0.8665, -0.5932, -1.5176,  0.7348,  0.9515, -0.2090,  2.0376]],\n",
      "       grad_fn=<EmbeddingBackward0>)\n"
     ]
    }
   ],
   "source": [
    "N_WORDS = 10\n",
    "PAD_TOKEN_IDX = N_WORDS\n",
    "SOS_TOKEN_IDX = N_WORDS + 1\n",
    "EOS_TOKEN_IDX = N_WORDS + 2\n",
    "vocab_size = N_WORDS + 3\n",
    "D_MODEL = 16\n",
    "\n",
    "embeddings = CustomEmbedding(vocab_size = vocab_size, d_model = D_MODEL) # 3 = PAD, SOS, EOS\n",
    "\n",
    "indices = torch.tensor([1,9])\n",
    "\n",
    "# print(embeddings.embeddings.weight)\n",
    "print(embeddings.embeddings(indices))"
   ]
  },
  {
   "cell_type": "code",
   "execution_count": 32,
   "metadata": {},
   "outputs": [],
   "source": [
    "BATCH_SIZE = 2\n",
    "\n",
    "rand_ds = RandomIntegerDataset(2, 10, 10, [i for i in range(10)])\n",
    "dataloader = DataLoader(rand_ds, batch_size = BATCH_SIZE, shuffle = True, collate_fn = partial(padding_collate_fn, pad_token_idx = PAD_TOKEN_IDX))"
   ]
  },
  {
   "cell_type": "code",
   "execution_count": 35,
   "metadata": {},
   "outputs": [
    {
     "name": "stdout",
     "output_type": "stream",
     "text": [
      "tensor([[ 5,  8,  3,  2,  8,  8,  1],\n",
      "        [ 2,  5, 10, 10, 10, 10, 10]])\n",
      "tensor([[11,  1,  2,  3,  5,  8,  8,  8],\n",
      "        [11,  2,  5, 10, 10, 10, 10, 10]])\n",
      "tensor([[ 1,  2,  3,  5,  8,  8,  8, 12],\n",
      "        [ 2,  5, 12, 10, 10, 10, 10, 10]])\n"
     ]
    }
   ],
   "source": [
    "input, label = next(iter(dataloader))\n",
    "print(input[0])\n",
    "print(input[1])\n",
    "print(label)"
   ]
  },
  {
   "cell_type": "code",
   "execution_count": 37,
   "metadata": {},
   "outputs": [],
   "source": [
    "loss_fn = nn.CrossEntropyLoss()\n",
    "\n",
    "model = EncoderDecoderTransformer(\n",
    "                    embeddings = embeddings, \n",
    "                    vocab_size = vocab_size, \n",
    "                    d_model = D_MODEL, \n",
    "                    num_attention_heads = 4, \n",
    "                    num_encoder_layers = 6, \n",
    "                    num_decoder_layers = 6, \n",
    "                    dim_feedforward = 64, \n",
    "                    max_context_window = 50)\n",
    "\n",
    "optim = torch.optim.SGD(params = model.parameters(), lr = 1e-3, momentum = 0.9, weight_decay = 1e-4)"
   ]
  },
  {
   "cell_type": "code",
   "execution_count": 29,
   "metadata": {},
   "outputs": [],
   "source": [
    "# def run_train_epoch(dataloader: DataLoader, model: nn.Module, loss_fn: nn.Module, optimizer: torch.optim.Optimizer):\n",
    "    \n",
    "#     model.train()\n",
    "\n",
    "#     for i, ((source, target), label) in enumerate(dataloader):\n",
    "\n",
    "#         print(source)\n",
    "#         print(target)\n",
    "\n",
    "#         # FORWARD\n",
    "#         pred = model(source, target)\n",
    "\n",
    "#         batch_loss = loss_fn(pred, label)\n",
    "\n",
    "#         # BACKWARD\n",
    "#         batch_loss.backward()\n",
    "\n",
    "#         # OPTIMIZE\n",
    "#         optimizer.step()\n",
    "#         optimizer.zero_grad()\n",
    "\n",
    "# def run_test_loop(dataloader: DataLoader, model: nn.Module, loss_fn: nn.Module):\n",
    "    \n",
    "#     model.eval()"
   ]
  },
  {
   "cell_type": "code",
   "execution_count": 30,
   "metadata": {},
   "outputs": [],
   "source": [
    "# EPOCHS = 1\n",
    "\n",
    "# for i in range(EPOCHS):\n",
    "\n",
    "#     run_train_epoch(dataloader, model, loss_fn, optim)"
   ]
  }
 ],
 "metadata": {
  "kernelspec": {
   "display_name": "env",
   "language": "python",
   "name": "python3"
  },
  "language_info": {
   "codemirror_mode": {
    "name": "ipython",
    "version": 3
   },
   "file_extension": ".py",
   "mimetype": "text/x-python",
   "name": "python",
   "nbconvert_exporter": "python",
   "pygments_lexer": "ipython3",
   "version": "3.12.2"
  }
 },
 "nbformat": 4,
 "nbformat_minor": 2
}
