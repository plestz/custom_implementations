{
 "cells": [
  {
   "cell_type": "code",
   "execution_count": 25,
   "metadata": {},
   "outputs": [
    {
     "name": "stdout",
     "output_type": "stream",
     "text": [
      "The autoreload extension is already loaded. To reload it, use:\n",
      "  %reload_ext autoreload\n"
     ]
    }
   ],
   "source": [
    "%load_ext autoreload\n",
    "%autoreload 2"
   ]
  },
  {
   "cell_type": "code",
   "execution_count": 26,
   "metadata": {},
   "outputs": [],
   "source": [
    "import sys\n",
    "import os\n",
    "import torch\n",
    "from functools import partial\n",
    "from torch.utils.data import Dataset, DataLoader\n",
    "\n",
    "import torch.nn as nn\n",
    "from embedding import CustomEmbedding\n",
    "from transformers import EncoderDecoderTransformer\n",
    "from utils import padding_collate_fn\n",
    "\n",
    "from generate_data import RandomIntegerDataset"
   ]
  },
  {
   "cell_type": "code",
   "execution_count": 27,
   "metadata": {},
   "outputs": [
    {
     "name": "stdout",
     "output_type": "stream",
     "text": [
      "tensor([[-1.0505, -0.1307, -0.5937, -2.0197, -0.4047, -0.8057, -2.2808, -0.7107,\n",
      "          0.1728, -0.5888, -1.6933,  0.1606, -0.4092, -1.7453,  0.7205,  0.0121],\n",
      "        [-0.2410, -0.6467, -0.5804, -0.4805,  0.8344, -1.0072,  0.9215, -1.0519,\n",
      "          0.3204,  2.7408, -0.0303, -0.6972, -0.3721, -0.1038,  0.4547,  0.5299]],\n",
      "       grad_fn=<EmbeddingBackward0>)\n"
     ]
    }
   ],
   "source": [
    "n_real_tokens = 10\n",
    "PAD_TOKEN_IDX = n_real_tokens\n",
    "SOS_TOKEN_IDX = n_real_tokens + 1\n",
    "EOS_TOKEN_IDX = n_real_tokens + 2\n",
    "vocab_size = n_real_tokens + 3\n",
    "D_MODEL = 16\n",
    "\n",
    "embeddings = CustomEmbedding(vocab_size = vocab_size + 3, d_model = D_MODEL) # 3 = PAD, SOS, EOS\n",
    "\n",
    "indices = torch.tensor([1,9])\n",
    "\n",
    "# print(embeddings.embeddings.weight)\n",
    "print(embeddings.embeddings(indices))"
   ]
  },
  {
   "cell_type": "code",
   "execution_count": 28,
   "metadata": {},
   "outputs": [],
   "source": [
    "MAX_CONTEXT_WINDOW = 50\n",
    "\n",
    "BATCH_SIZE = 2\n",
    "MIN_SEQ_LEN = 2\n",
    "MAX_SEQ_LEN = min(10, MAX_CONTEXT_WINDOW)\n",
    "\n",
    "rand_ds = RandomIntegerDataset(2, 10, 10, [i for i in range(10)])\n",
    "dataloader = DataLoader(rand_ds, batch_size = BATCH_SIZE, shuffle = True, collate_fn = partial(padding_collate_fn, pad_token_idx = PAD_TOKEN_IDX))"
   ]
  },
  {
   "cell_type": "code",
   "execution_count": 29,
   "metadata": {},
   "outputs": [
    {
     "name": "stdout",
     "output_type": "stream",
     "text": [
      "tensor([[ 2,  5,  5,  3,  3,  6],\n",
      "        [ 1,  7,  4,  8,  3, 10]])\n",
      "tensor([[11,  2,  3,  3,  5,  5,  6],\n",
      "        [11,  1,  3,  4,  7,  8, 10]])\n",
      "tensor([[ 2,  3,  3,  5,  5,  6, 12],\n",
      "        [ 1,  3,  4,  7,  8, 12, 10]])\n"
     ]
    }
   ],
   "source": [
    "input, label = next(iter(dataloader))\n",
    "print(input[0])\n",
    "print(input[1])\n",
    "print(label)"
   ]
  },
  {
   "cell_type": "code",
   "execution_count": 30,
   "metadata": {},
   "outputs": [],
   "source": [
    "loss_fn = nn.CrossEntropyLoss(ignore_index = PAD_TOKEN_IDX, reduction = 'sum')\n",
    "\n",
    "model = EncoderDecoderTransformer(\n",
    "                    embeddings = embeddings, \n",
    "                    vocab_size = vocab_size, \n",
    "                    d_model = D_MODEL, \n",
    "                    num_attention_heads = 4, \n",
    "                    num_encoder_layers = 1, \n",
    "                    num_decoder_layers = 1, \n",
    "                    dim_feedforward = 32, \n",
    "                    max_context_window = MAX_CONTEXT_WINDOW)\n",
    "\n",
    "optim = torch.optim.SGD(params = model.parameters(), lr = 1e-3, momentum = 0.9, weight_decay = 1e-4)"
   ]
  },
  {
   "cell_type": "code",
   "execution_count": 31,
   "metadata": {},
   "outputs": [],
   "source": [
    "def run_train_epoch(dataloader: DataLoader, model: nn.Module, loss_fn: nn.Module, optimizer: torch.optim.Optimizer):\n",
    "    \n",
    "    model.train()\n",
    "\n",
    "    epoch_loss = 0.0\n",
    "\n",
    "    for i, ((source, target), label) in enumerate(dataloader):\n",
    "        print(f'Processing Batch {i+1}...')\n",
    "\n",
    "        # FORWARD\n",
    "        pred = model(source, target)\n",
    "        print(pred)\n",
    "        print(label)\n",
    "        batch_loss = loss_fn(pred, label)\n",
    "\n",
    "        # LOG\n",
    "        epoch_loss += batch_loss.item()\n",
    "\n",
    "        # BACKWARD\n",
    "        batch_loss.backward()\n",
    "\n",
    "        # OPTIMIZE\n",
    "        optimizer.step()\n",
    "        optimizer.zero_grad()\n",
    "\n",
    "    average_epoch_loss = epoch_loss / len(dataloader.dataset)\n",
    "\n",
    "    return average_epoch_loss\n",
    "\n",
    "def run_test_loop(dataloader: DataLoader, model: nn.Module, loss_fn: nn.Module):\n",
    "    \n",
    "    model.eval()"
   ]
  },
  {
   "cell_type": "code",
   "execution_count": 32,
   "metadata": {},
   "outputs": [
    {
     "name": "stdout",
     "output_type": "stream",
     "text": [
      "Processing Batch 1...\n",
      "tensor([[[0.0465, 0.0343, 0.1215, 0.0955, 0.0466, 0.0468, 0.0221, 0.1260,\n",
      "          0.1409, 0.0919, 0.1460, 0.0244, 0.0574],\n",
      "         [0.0270, 0.0356, 0.1417, 0.0631, 0.0948, 0.0537, 0.0227, 0.0556,\n",
      "          0.1660, 0.0659, 0.1926, 0.0256, 0.0558],\n",
      "         [0.0442, 0.0611, 0.0962, 0.1208, 0.0506, 0.1049, 0.0316, 0.0657,\n",
      "          0.0850, 0.0768, 0.0958, 0.1349, 0.0323],\n",
      "         [0.0814, 0.0390, 0.0936, 0.1175, 0.0383, 0.0440, 0.0212, 0.1415,\n",
      "          0.0906, 0.1146, 0.0975, 0.0549, 0.0659],\n",
      "         [0.0298, 0.0500, 0.0857, 0.1008, 0.0679, 0.0512, 0.0264, 0.0687,\n",
      "          0.1582, 0.0515, 0.1981, 0.0531, 0.0587],\n",
      "         [0.0376, 0.0695, 0.1233, 0.0771, 0.0877, 0.0245, 0.0791, 0.0207,\n",
      "          0.1521, 0.0190, 0.1209, 0.1236, 0.0649],\n",
      "         [0.0681, 0.0385, 0.1467, 0.0674, 0.0230, 0.0645, 0.0254, 0.0577,\n",
      "          0.1957, 0.1202, 0.1123, 0.0343, 0.0463],\n",
      "         [0.0688, 0.0371, 0.1469, 0.0701, 0.0214, 0.0730, 0.0258, 0.0641,\n",
      "          0.1826, 0.1182, 0.1153, 0.0331, 0.0436],\n",
      "         [0.0752, 0.0445, 0.1521, 0.0826, 0.0223, 0.0878, 0.0320, 0.0664,\n",
      "          0.1494, 0.0995, 0.1105, 0.0351, 0.0427],\n",
      "         [0.0783, 0.0575, 0.1577, 0.0907, 0.0253, 0.0941, 0.0403, 0.0600,\n",
      "          0.1302, 0.0809, 0.1020, 0.0393, 0.0436],\n",
      "         [0.0747, 0.0668, 0.1600, 0.0846, 0.0294, 0.0872, 0.0439, 0.0523,\n",
      "          0.1388, 0.0747, 0.0984, 0.0439, 0.0452]],\n",
      "\n",
      "        [[0.0475, 0.0363, 0.1173, 0.0873, 0.0484, 0.0398, 0.0229, 0.1309,\n",
      "          0.1487, 0.0995, 0.1319, 0.0277, 0.0618],\n",
      "         [0.0228, 0.0140, 0.0583, 0.0578, 0.0634, 0.0448, 0.0134, 0.1275,\n",
      "          0.1801, 0.1613, 0.1850, 0.0390, 0.0325],\n",
      "         [0.0372, 0.0232, 0.0982, 0.1383, 0.0335, 0.0679, 0.0139, 0.1203,\n",
      "          0.1085, 0.1231, 0.1538, 0.0443, 0.0378],\n",
      "         [0.0425, 0.0291, 0.1123, 0.1501, 0.0360, 0.0690, 0.0175, 0.1032,\n",
      "          0.1025, 0.1040, 0.1373, 0.0554, 0.0411],\n",
      "         [0.0417, 0.0314, 0.1276, 0.1358, 0.0387, 0.0568, 0.0174, 0.0860,\n",
      "          0.1204, 0.1029, 0.1292, 0.0672, 0.0449],\n",
      "         [0.0259, 0.0403, 0.0738, 0.0604, 0.0671, 0.0293, 0.0180, 0.0726,\n",
      "          0.2302, 0.0779, 0.1742, 0.0587, 0.0715],\n",
      "         [0.0242, 0.0336, 0.0665, 0.0491, 0.0604, 0.0269, 0.0165, 0.0762,\n",
      "          0.2546, 0.0891, 0.1761, 0.0576, 0.0693],\n",
      "         [0.0557, 0.0786, 0.0624, 0.0549, 0.0358, 0.0242, 0.0239, 0.0998,\n",
      "          0.1958, 0.1402, 0.0757, 0.0647, 0.0882],\n",
      "         [0.0345, 0.0392, 0.0782, 0.0825, 0.0498, 0.0909, 0.0119, 0.1569,\n",
      "          0.0892, 0.1662, 0.1244, 0.0294, 0.0467],\n",
      "         [0.0346, 0.0501, 0.0850, 0.0955, 0.0567, 0.1057, 0.0137, 0.1456,\n",
      "          0.0779, 0.1369, 0.1208, 0.0320, 0.0455],\n",
      "         [0.0326, 0.0607, 0.0888, 0.0924, 0.0662, 0.1036, 0.0150, 0.1267,\n",
      "          0.0838, 0.1273, 0.1197, 0.0366, 0.0466]]],\n",
      "       grad_fn=<SoftmaxBackward0>)\n",
      "tensor([[ 1,  2,  5,  6,  9, 12, 10, 10, 10, 10, 10],\n",
      "        [ 0,  3,  3,  3,  6,  6,  7,  8,  8,  8, 12]])\n"
     ]
    },
    {
     "ename": "RuntimeError",
     "evalue": "Expected target size [2, 13], got [2, 11]",
     "output_type": "error",
     "traceback": [
      "\u001b[31m---------------------------------------------------------------------------\u001b[39m",
      "\u001b[31mRuntimeError\u001b[39m                              Traceback (most recent call last)",
      "\u001b[36mCell\u001b[39m\u001b[36m \u001b[39m\u001b[32mIn[32]\u001b[39m\u001b[32m, line 7\u001b[39m\n\u001b[32m      3\u001b[39m training_losses = \u001b[38;5;28mlist\u001b[39m()\n\u001b[32m      5\u001b[39m \u001b[38;5;28;01mfor\u001b[39;00m i \u001b[38;5;129;01min\u001b[39;00m \u001b[38;5;28mrange\u001b[39m(EPOCHS):\n\u001b[32m----> \u001b[39m\u001b[32m7\u001b[39m     training_loss = \u001b[43mrun_train_epoch\u001b[49m\u001b[43m(\u001b[49m\u001b[43mdataloader\u001b[49m\u001b[43m,\u001b[49m\u001b[43m \u001b[49m\u001b[43mmodel\u001b[49m\u001b[43m,\u001b[49m\u001b[43m \u001b[49m\u001b[43mloss_fn\u001b[49m\u001b[43m,\u001b[49m\u001b[43m \u001b[49m\u001b[43moptim\u001b[49m\u001b[43m)\u001b[49m\n\u001b[32m      8\u001b[39m     training_losses.append(training_loss)\n",
      "\u001b[36mCell\u001b[39m\u001b[36m \u001b[39m\u001b[32mIn[31]\u001b[39m\u001b[32m, line 14\u001b[39m, in \u001b[36mrun_train_epoch\u001b[39m\u001b[34m(dataloader, model, loss_fn, optimizer)\u001b[39m\n\u001b[32m     12\u001b[39m \u001b[38;5;28mprint\u001b[39m(pred)\n\u001b[32m     13\u001b[39m \u001b[38;5;28mprint\u001b[39m(label)\n\u001b[32m---> \u001b[39m\u001b[32m14\u001b[39m batch_loss = \u001b[43mloss_fn\u001b[49m\u001b[43m(\u001b[49m\u001b[43mpred\u001b[49m\u001b[43m,\u001b[49m\u001b[43m \u001b[49m\u001b[43mlabel\u001b[49m\u001b[43m)\u001b[49m\n\u001b[32m     16\u001b[39m \u001b[38;5;66;03m# LOG\u001b[39;00m\n\u001b[32m     17\u001b[39m epoch_loss += batch_loss.item()\n",
      "\u001b[36mFile \u001b[39m\u001b[32m~/opt/miniconda3/envs/env/lib/python3.12/site-packages/torch/nn/modules/module.py:1511\u001b[39m, in \u001b[36mModule._wrapped_call_impl\u001b[39m\u001b[34m(self, *args, **kwargs)\u001b[39m\n\u001b[32m   1509\u001b[39m     \u001b[38;5;28;01mreturn\u001b[39;00m \u001b[38;5;28mself\u001b[39m._compiled_call_impl(*args, **kwargs)  \u001b[38;5;66;03m# type: ignore[misc]\u001b[39;00m\n\u001b[32m   1510\u001b[39m \u001b[38;5;28;01melse\u001b[39;00m:\n\u001b[32m-> \u001b[39m\u001b[32m1511\u001b[39m     \u001b[38;5;28;01mreturn\u001b[39;00m \u001b[38;5;28;43mself\u001b[39;49m\u001b[43m.\u001b[49m\u001b[43m_call_impl\u001b[49m\u001b[43m(\u001b[49m\u001b[43m*\u001b[49m\u001b[43margs\u001b[49m\u001b[43m,\u001b[49m\u001b[43m \u001b[49m\u001b[43m*\u001b[49m\u001b[43m*\u001b[49m\u001b[43mkwargs\u001b[49m\u001b[43m)\u001b[49m\n",
      "\u001b[36mFile \u001b[39m\u001b[32m~/opt/miniconda3/envs/env/lib/python3.12/site-packages/torch/nn/modules/module.py:1520\u001b[39m, in \u001b[36mModule._call_impl\u001b[39m\u001b[34m(self, *args, **kwargs)\u001b[39m\n\u001b[32m   1515\u001b[39m \u001b[38;5;66;03m# If we don't have any hooks, we want to skip the rest of the logic in\u001b[39;00m\n\u001b[32m   1516\u001b[39m \u001b[38;5;66;03m# this function, and just call forward.\u001b[39;00m\n\u001b[32m   1517\u001b[39m \u001b[38;5;28;01mif\u001b[39;00m \u001b[38;5;129;01mnot\u001b[39;00m (\u001b[38;5;28mself\u001b[39m._backward_hooks \u001b[38;5;129;01mor\u001b[39;00m \u001b[38;5;28mself\u001b[39m._backward_pre_hooks \u001b[38;5;129;01mor\u001b[39;00m \u001b[38;5;28mself\u001b[39m._forward_hooks \u001b[38;5;129;01mor\u001b[39;00m \u001b[38;5;28mself\u001b[39m._forward_pre_hooks\n\u001b[32m   1518\u001b[39m         \u001b[38;5;129;01mor\u001b[39;00m _global_backward_pre_hooks \u001b[38;5;129;01mor\u001b[39;00m _global_backward_hooks\n\u001b[32m   1519\u001b[39m         \u001b[38;5;129;01mor\u001b[39;00m _global_forward_hooks \u001b[38;5;129;01mor\u001b[39;00m _global_forward_pre_hooks):\n\u001b[32m-> \u001b[39m\u001b[32m1520\u001b[39m     \u001b[38;5;28;01mreturn\u001b[39;00m \u001b[43mforward_call\u001b[49m\u001b[43m(\u001b[49m\u001b[43m*\u001b[49m\u001b[43margs\u001b[49m\u001b[43m,\u001b[49m\u001b[43m \u001b[49m\u001b[43m*\u001b[49m\u001b[43m*\u001b[49m\u001b[43mkwargs\u001b[49m\u001b[43m)\u001b[49m\n\u001b[32m   1522\u001b[39m \u001b[38;5;28;01mtry\u001b[39;00m:\n\u001b[32m   1523\u001b[39m     result = \u001b[38;5;28;01mNone\u001b[39;00m\n",
      "\u001b[36mFile \u001b[39m\u001b[32m~/opt/miniconda3/envs/env/lib/python3.12/site-packages/torch/nn/modules/loss.py:1179\u001b[39m, in \u001b[36mCrossEntropyLoss.forward\u001b[39m\u001b[34m(self, input, target)\u001b[39m\n\u001b[32m   1178\u001b[39m \u001b[38;5;28;01mdef\u001b[39;00m\u001b[38;5;250m \u001b[39m\u001b[34mforward\u001b[39m(\u001b[38;5;28mself\u001b[39m, \u001b[38;5;28minput\u001b[39m: Tensor, target: Tensor) -> Tensor:\n\u001b[32m-> \u001b[39m\u001b[32m1179\u001b[39m     \u001b[38;5;28;01mreturn\u001b[39;00m \u001b[43mF\u001b[49m\u001b[43m.\u001b[49m\u001b[43mcross_entropy\u001b[49m\u001b[43m(\u001b[49m\u001b[38;5;28;43minput\u001b[39;49m\u001b[43m,\u001b[49m\u001b[43m \u001b[49m\u001b[43mtarget\u001b[49m\u001b[43m,\u001b[49m\u001b[43m \u001b[49m\u001b[43mweight\u001b[49m\u001b[43m=\u001b[49m\u001b[38;5;28;43mself\u001b[39;49m\u001b[43m.\u001b[49m\u001b[43mweight\u001b[49m\u001b[43m,\u001b[49m\n\u001b[32m   1180\u001b[39m \u001b[43m                           \u001b[49m\u001b[43mignore_index\u001b[49m\u001b[43m=\u001b[49m\u001b[38;5;28;43mself\u001b[39;49m\u001b[43m.\u001b[49m\u001b[43mignore_index\u001b[49m\u001b[43m,\u001b[49m\u001b[43m \u001b[49m\u001b[43mreduction\u001b[49m\u001b[43m=\u001b[49m\u001b[38;5;28;43mself\u001b[39;49m\u001b[43m.\u001b[49m\u001b[43mreduction\u001b[49m\u001b[43m,\u001b[49m\n\u001b[32m   1181\u001b[39m \u001b[43m                           \u001b[49m\u001b[43mlabel_smoothing\u001b[49m\u001b[43m=\u001b[49m\u001b[38;5;28;43mself\u001b[39;49m\u001b[43m.\u001b[49m\u001b[43mlabel_smoothing\u001b[49m\u001b[43m)\u001b[49m\n",
      "\u001b[36mFile \u001b[39m\u001b[32m~/opt/miniconda3/envs/env/lib/python3.12/site-packages/torch/nn/functional.py:3059\u001b[39m, in \u001b[36mcross_entropy\u001b[39m\u001b[34m(input, target, weight, size_average, ignore_index, reduce, reduction, label_smoothing)\u001b[39m\n\u001b[32m   3057\u001b[39m \u001b[38;5;28;01mif\u001b[39;00m size_average \u001b[38;5;129;01mis\u001b[39;00m \u001b[38;5;129;01mnot\u001b[39;00m \u001b[38;5;28;01mNone\u001b[39;00m \u001b[38;5;129;01mor\u001b[39;00m reduce \u001b[38;5;129;01mis\u001b[39;00m \u001b[38;5;129;01mnot\u001b[39;00m \u001b[38;5;28;01mNone\u001b[39;00m:\n\u001b[32m   3058\u001b[39m     reduction = _Reduction.legacy_get_string(size_average, reduce)\n\u001b[32m-> \u001b[39m\u001b[32m3059\u001b[39m \u001b[38;5;28;01mreturn\u001b[39;00m \u001b[43mtorch\u001b[49m\u001b[43m.\u001b[49m\u001b[43m_C\u001b[49m\u001b[43m.\u001b[49m\u001b[43m_nn\u001b[49m\u001b[43m.\u001b[49m\u001b[43mcross_entropy_loss\u001b[49m\u001b[43m(\u001b[49m\u001b[38;5;28;43minput\u001b[39;49m\u001b[43m,\u001b[49m\u001b[43m \u001b[49m\u001b[43mtarget\u001b[49m\u001b[43m,\u001b[49m\u001b[43m \u001b[49m\u001b[43mweight\u001b[49m\u001b[43m,\u001b[49m\u001b[43m \u001b[49m\u001b[43m_Reduction\u001b[49m\u001b[43m.\u001b[49m\u001b[43mget_enum\u001b[49m\u001b[43m(\u001b[49m\u001b[43mreduction\u001b[49m\u001b[43m)\u001b[49m\u001b[43m,\u001b[49m\u001b[43m \u001b[49m\u001b[43mignore_index\u001b[49m\u001b[43m,\u001b[49m\u001b[43m \u001b[49m\u001b[43mlabel_smoothing\u001b[49m\u001b[43m)\u001b[49m\n",
      "\u001b[31mRuntimeError\u001b[39m: Expected target size [2, 13], got [2, 11]"
     ]
    }
   ],
   "source": [
    "EPOCHS = 1\n",
    "\n",
    "training_losses = list()\n",
    "\n",
    "for i in range(EPOCHS):\n",
    "\n",
    "    training_loss = run_train_epoch(dataloader, model, loss_fn, optim)\n",
    "    training_losses.append(training_loss)"
   ]
  }
 ],
 "metadata": {
  "kernelspec": {
   "display_name": "env",
   "language": "python",
   "name": "python3"
  },
  "language_info": {
   "codemirror_mode": {
    "name": "ipython",
    "version": 3
   },
   "file_extension": ".py",
   "mimetype": "text/x-python",
   "name": "python",
   "nbconvert_exporter": "python",
   "pygments_lexer": "ipython3",
   "version": "3.12.2"
  }
 },
 "nbformat": 4,
 "nbformat_minor": 2
}
