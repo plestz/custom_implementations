{
 "cells": [
  {
   "cell_type": "code",
   "execution_count": 263,
   "id": "f8197d66",
   "metadata": {},
   "outputs": [
    {
     "name": "stdout",
     "output_type": "stream",
     "text": [
      "The autoreload extension is already loaded. To reload it, use:\n",
      "  %reload_ext autoreload\n"
     ]
    }
   ],
   "source": [
    "%load_ext autoreload\n",
    "%autoreload 2"
   ]
  },
  {
   "cell_type": "code",
   "execution_count": 264,
   "id": "48e3952b",
   "metadata": {},
   "outputs": [],
   "source": [
    "import sys\n",
    "from pathlib import Path\n",
    "\n",
    "# Get the parent directory (i.e. project root)\n",
    "project_root = Path().resolve().parent.parent \n",
    "sys.path.insert(0, str(project_root))\n",
    "\n",
    "import numpy as np\n",
    "import pandas as pd\n",
    "\n",
    "import torch\n",
    "import torch.nn as nn\n",
    "from torch.utils.data import DataLoader\n",
    "from functools import partial\n",
    "\n",
    "from tokenization.byte_pair_encoding.get_tokenizers import train_and_save_tokenizer_for, load_tokenizer_from\n",
    "\n",
    "from pre_training.text_summarization.dataset import TextSummarizationDataset\n",
    "\n",
    "from src.embedding import CustomEmbedding\n",
    "from src.transformer import EncoderDecoderTransformer\n",
    "from src.utils import padding_collate_fn\n",
    "\n",
    "from src.train_utils import run_train_epoch\n",
    "from src.validation_utils import run_gold_validation_loop, run_autoregressive_validation_loop"
   ]
  },
  {
   "cell_type": "code",
   "execution_count": 265,
   "id": "81921cff",
   "metadata": {},
   "outputs": [],
   "source": [
    "DF_DATA_PATH = '../../data/SAMSum/'\n",
    "\n",
    "BPE_IN_PATH = '../../data/SAMSum/train_summary_and_dialogue.txt'\n",
    "BPE_OUT_PATH = '../../tokenization/trained_tokenizers/SAMSum_BPE'"
   ]
  },
  {
   "cell_type": "code",
   "execution_count": 266,
   "id": "0a22ec33",
   "metadata": {},
   "outputs": [],
   "source": [
    "MAX_CONTEXT_WINDOW = 100\n",
    "\n",
    "BATCH_SIZE = 128\n",
    "\n",
    "D_MODEL = 64"
   ]
  },
  {
   "cell_type": "code",
   "execution_count": 267,
   "id": "73f11a25",
   "metadata": {},
   "outputs": [],
   "source": [
    "train_df = pd.read_json(DF_DATA_PATH + 'train_df.json', orient = 'records', lines = True)\n",
    "val_df = pd.read_json(DF_DATA_PATH + 'val_df.json', orient = 'records', lines = True)\n",
    "test_df = pd.read_json(DF_DATA_PATH + 'test_df.json', orient = 'records', lines = True)"
   ]
  },
  {
   "cell_type": "code",
   "execution_count": 268,
   "id": "319eede3",
   "metadata": {},
   "outputs": [
    {
     "name": "stdout",
     "output_type": "stream",
     "text": [
      "\n",
      "\n",
      "\n",
      "The vocab size is 4000.\n",
      "The pad token index is 2.\n"
     ]
    }
   ],
   "source": [
    "bpe_tokenizer = train_and_save_tokenizer_for(in_file_paths = [BPE_IN_PATH], out_file_dir_path = BPE_OUT_PATH, vocab_size = 4_000)\n",
    "pretrained_bpe_tokenizer = load_tokenizer_from(dir_path = BPE_OUT_PATH, model_max_length = 10000)\n",
    "\n",
    "VOCAB_SIZE = pretrained_bpe_tokenizer.vocab_size\n",
    "PAD_TOKEN_IDX = pretrained_bpe_tokenizer.pad_token_id\n",
    "\n",
    "print(f'The vocab size is {VOCAB_SIZE}.')\n",
    "print(f'The pad token index is {PAD_TOKEN_IDX}.')"
   ]
  },
  {
   "cell_type": "code",
   "execution_count": 269,
   "id": "fbc2c7a0",
   "metadata": {},
   "outputs": [],
   "source": [
    "embeddings = CustomEmbedding(VOCAB_SIZE, D_MODEL)"
   ]
  },
  {
   "cell_type": "code",
   "execution_count": 270,
   "id": "5747ac92",
   "metadata": {},
   "outputs": [],
   "source": [
    "def normalize_prefix_space(texts: list[str], include_SOS: bool = False):\n",
    "    return [('<SOS>' if include_SOS else '') + ' ' + text.lstrip() for text in texts]"
   ]
  },
  {
   "cell_type": "code",
   "execution_count": 271,
   "id": "8a000cc4",
   "metadata": {},
   "outputs": [
    {
     "name": "stdout",
     "output_type": "stream",
     "text": [
      "With a max_context_window of 100...\n",
      "The number of training samples went from 14732 to 5561\n",
      "The number of validation samples went from 818 to 325\n",
      "The number of test samples went from 819 to 306\n"
     ]
    }
   ],
   "source": [
    "FILTER_tokenized_train_sources = pretrained_bpe_tokenizer(\n",
    "    normalize_prefix_space(train_df['dialogue'].tolist()),\n",
    "    add_special_tokens = False,\n",
    "    return_attention_mask = False,\n",
    "    return_token_type_ids = False\n",
    ")\n",
    "\n",
    "FILTER_tokenized_train_targets = pretrained_bpe_tokenizer(\n",
    "    normalize_prefix_space(train_df['summary'].tolist(), include_SOS = True),\n",
    "    add_special_tokens = False,\n",
    "    return_attention_mask = False,\n",
    "    return_token_type_ids = False\n",
    ")\n",
    "\n",
    "FILTER_tokenized_val_sources = pretrained_bpe_tokenizer(\n",
    "    normalize_prefix_space(val_df['dialogue'].tolist()),\n",
    "    add_special_tokens = False,\n",
    "    return_attention_mask = False,\n",
    "    return_token_type_ids = False\n",
    ")\n",
    "\n",
    "FILTER_tokenized_val_targets = pretrained_bpe_tokenizer(\n",
    "    normalize_prefix_space(val_df['summary'].tolist(), include_SOS = True),\n",
    "    add_special_tokens = False,\n",
    "    return_attention_mask = False,\n",
    "    return_token_type_ids = False\n",
    ")\n",
    "\n",
    "FILTER_tokenized_test_sources = pretrained_bpe_tokenizer(\n",
    "    normalize_prefix_space(test_df['dialogue'].tolist()),\n",
    "    add_special_tokens = False,\n",
    "    return_attention_mask = False,\n",
    "    return_token_type_ids = False\n",
    ")\n",
    "\n",
    "FILTER_tokenized_test_targets = pretrained_bpe_tokenizer(\n",
    "    normalize_prefix_space(test_df['summary'].tolist(), include_SOS = True),\n",
    "    add_special_tokens = False,\n",
    "    return_attention_mask = False,\n",
    "    return_token_type_ids = False\n",
    ")\n",
    "\n",
    "valid_src_train_indices = np.array([len(example) <= MAX_CONTEXT_WINDOW for example in FILTER_tokenized_train_sources.data['input_ids']])\n",
    "valid_src_val_indices = np.array([len(example) <= MAX_CONTEXT_WINDOW for example in FILTER_tokenized_val_sources.data['input_ids']])\n",
    "valid_src_test_indices = np.array([len(example) <= MAX_CONTEXT_WINDOW for example in FILTER_tokenized_test_sources.data['input_ids']])\n",
    "\n",
    "valid_tgt_train_indices = np.array([len(example) <= MAX_CONTEXT_WINDOW for example in FILTER_tokenized_train_targets.data['input_ids']])\n",
    "valid_tgt_val_indices = np.array([len(example) <= MAX_CONTEXT_WINDOW for example in FILTER_tokenized_val_targets.data['input_ids']])\n",
    "valid_tgt_test_indices = np.array([len(example) <= MAX_CONTEXT_WINDOW for example in FILTER_tokenized_test_targets.data['input_ids']])\n",
    "\n",
    "valid_train_df = train_df.iloc[valid_src_train_indices & valid_tgt_train_indices]\n",
    "valid_val_df = val_df.iloc[valid_src_val_indices & valid_tgt_val_indices]\n",
    "valid_test_df = test_df.iloc[valid_src_test_indices & valid_tgt_test_indices]\n",
    "\n",
    "print(f'With a max_context_window of {MAX_CONTEXT_WINDOW}...')\n",
    "print(f'The number of training samples went from {train_df.shape[0]} to {valid_train_df.shape[0]}')\n",
    "print(f'The number of validation samples went from {val_df.shape[0]} to {valid_val_df.shape[0]}')\n",
    "print(f'The number of test samples went from {test_df.shape[0]} to {valid_test_df.shape[0]}')"
   ]
  },
  {
   "cell_type": "code",
   "execution_count": 272,
   "id": "686aeb95",
   "metadata": {},
   "outputs": [],
   "source": [
    "tokenized_train_sources = pretrained_bpe_tokenizer(\n",
    "    normalize_prefix_space(valid_train_df['dialogue'].tolist()),\n",
    "    add_special_tokens = False,\n",
    "    return_attention_mask = False,\n",
    "    return_token_type_ids = False\n",
    ")\n",
    "\n",
    "tokenized_train_targets = pretrained_bpe_tokenizer(\n",
    "    normalize_prefix_space(valid_train_df['summary'].tolist(), include_SOS = True),\n",
    "    add_special_tokens = False,\n",
    "    return_attention_mask = False,\n",
    "    return_token_type_ids = False\n",
    ")\n",
    "\n",
    "tokenized_train_labels = pretrained_bpe_tokenizer(\n",
    "    normalize_prefix_space((valid_train_df['summary'] + '<EOS>').tolist()),\n",
    "    add_special_tokens = False,\n",
    "    return_attention_mask = False,\n",
    "    return_token_type_ids = False\n",
    ")\n",
    "\n",
    "tokenized_val_sources = pretrained_bpe_tokenizer(\n",
    "    normalize_prefix_space(valid_val_df['dialogue'].tolist()),\n",
    "    add_special_tokens = False,\n",
    "    return_attention_mask = False,\n",
    "    return_token_type_ids = False\n",
    ")\n",
    "\n",
    "tokenized_val_targets = pretrained_bpe_tokenizer(\n",
    "    normalize_prefix_space(valid_val_df['summary'].tolist(), include_SOS = True),\n",
    "    add_special_tokens = False,\n",
    "    return_attention_mask = False,\n",
    "    return_token_type_ids = False\n",
    ")\n",
    "\n",
    "tokenized_val_labels = pretrained_bpe_tokenizer(\n",
    "    normalize_prefix_space((valid_val_df['summary'] + '<EOS>').tolist()),\n",
    "    add_special_tokens = False,\n",
    "    return_attention_mask = False,\n",
    "    return_token_type_ids = False\n",
    ")\n",
    "\n",
    "tokenized_test_sources = pretrained_bpe_tokenizer(\n",
    "    normalize_prefix_space(valid_test_df['dialogue'].tolist()),\n",
    "    add_special_tokens = False,\n",
    "    return_attention_mask = False,\n",
    "    return_token_type_ids = False\n",
    ")\n",
    "\n",
    "tokenized_test_targets = pretrained_bpe_tokenizer(\n",
    "    normalize_prefix_space(valid_test_df['summary'].tolist(), include_SOS = True),\n",
    "    add_special_tokens = False,\n",
    "    return_attention_mask = False,\n",
    "    return_token_type_ids = False\n",
    ")\n",
    "\n",
    "tokenized_test_labels = pretrained_bpe_tokenizer(\n",
    "    normalize_prefix_space((valid_test_df['summary'] + '<EOS>').tolist()),\n",
    "    add_special_tokens = False,\n",
    "    return_attention_mask = False,\n",
    "    return_token_type_ids = False\n",
    ")"
   ]
  },
  {
   "cell_type": "code",
   "execution_count": 273,
   "id": "28756f1e",
   "metadata": {},
   "outputs": [],
   "source": [
    "train_ds = TextSummarizationDataset(tokenized_train_sources.data['input_ids'], tokenized_train_targets.data['input_ids'], tokenized_train_labels.data['input_ids'])\n",
    "val_ds = TextSummarizationDataset(tokenized_val_sources.data['input_ids'], tokenized_val_targets.data['input_ids'], tokenized_val_labels.data['input_ids'])\n",
    "test_ds = TextSummarizationDataset(tokenized_test_sources.data['input_ids'], tokenized_test_targets.data['input_ids'], tokenized_test_labels.data['input_ids'])\n",
    "\n",
    "# NOTE: Option to use HuggingFace DataCollatorWithPadding : requires changing TextSummarizationDataset __getitem__\n",
    "train_dataloader = DataLoader(train_ds, batch_size = BATCH_SIZE, shuffle = True, collate_fn = partial(padding_collate_fn, pad_token_idx = PAD_TOKEN_IDX))\n",
    "val_dataloader = DataLoader(val_ds, batch_size = BATCH_SIZE, collate_fn = partial(padding_collate_fn, pad_token_idx = PAD_TOKEN_IDX))\n",
    "test_dataloader = DataLoader(test_ds, batch_size = BATCH_SIZE, collate_fn = partial(padding_collate_fn, pad_token_idx = PAD_TOKEN_IDX))"
   ]
  },
  {
   "cell_type": "code",
   "execution_count": 274,
   "id": "f5508a0f",
   "metadata": {},
   "outputs": [
    {
     "name": "stdout",
     "output_type": "stream",
     "text": [
      "tensor([[1306,   30,  533,  ...,    2,    2,    2],\n",
      "        [2334,  563,   30,  ...,    2,    2,    2],\n",
      "        [1427,  300, 1456,  ...,    2,    2,    2],\n",
      "        ...,\n",
      "        [ 512,  884,   30,  ...,   30,  399,   57],\n",
      "        [2637,   30,  822,  ...,    2,    2,    2],\n",
      "        [ 399, 3292,   30,  ...,    2,    2,    2]])\n",
      "tensor([[   0,  328,  281,  ...,    2,    2,    2],\n",
      "        [   0,  409, 2400,  ...,    2,    2,    2],\n",
      "        [   0, 1427,  300,  ...,    2,    2,    2],\n",
      "        ...,\n",
      "        [   0, 3951, 2474,  ...,    2,    2,    2],\n",
      "        [   0, 3171, 1345,  ...,    2,    2,    2],\n",
      "        [   0,  399, 3292,  ...,    2,    2,    2]])\n",
      "tensor([[ 328,  281, 3250,  ...,    2,    2,    2],\n",
      "        [ 409, 2400,  314,  ...,    2,    2,    2],\n",
      "        [1427,  300, 1456,  ...,    2,    2,    2],\n",
      "        ...,\n",
      "        [3951, 2474,  271,  ...,    2,    2,    2],\n",
      "        [3171, 1345,  263,  ...,    2,    2,    2],\n",
      "        [ 399, 3292,  323,  ...,    2,    2,    2]])\n"
     ]
    }
   ],
   "source": [
    "(source, target), label = next(iter(train_dataloader))\n",
    "print(source)\n",
    "print(target)\n",
    "print(label)"
   ]
  },
  {
   "cell_type": "code",
   "execution_count": 275,
   "id": "9399cf5d",
   "metadata": {},
   "outputs": [],
   "source": [
    "loss_fn = nn.CrossEntropyLoss(ignore_index = PAD_TOKEN_IDX, reduction = 'sum')\n",
    "\n",
    "model = EncoderDecoderTransformer(\n",
    "    embeddings = embeddings,\n",
    "    vocab_size = VOCAB_SIZE,\n",
    "    d_model = D_MODEL,\n",
    "    num_attention_heads = 8,\n",
    "    num_encoder_layers = 2,\n",
    "    num_decoder_layers = 2,\n",
    "    dim_feedforward = 256,\n",
    "    dropout = 0.1,\n",
    "    max_context_window = MAX_CONTEXT_WINDOW,\n",
    "    use_pre_lnorm = True\n",
    ")\n",
    "\n",
    "optim = torch.optim.SGD(model.parameters(), lr = 1e-4, momentum = 0.9, weight_decay = 1e-4)"
   ]
  },
  {
   "cell_type": "code",
   "execution_count": 276,
   "id": "d0ddd08e",
   "metadata": {},
   "outputs": [
    {
     "name": "stdout",
     "output_type": "stream",
     "text": [
      "Running epoch 1...\n"
     ]
    },
    {
     "name": "stderr",
     "output_type": "stream",
     "text": [
      "100%|██████████| 44/44 [00:27<00:00,  1.60it/s]\n",
      "100%|██████████| 3/3 [00:00<00:00,  5.30it/s]\n"
     ]
    },
    {
     "name": "stdout",
     "output_type": "stream",
     "text": [
      "Running epoch 2...\n"
     ]
    },
    {
     "name": "stderr",
     "output_type": "stream",
     "text": [
      "100%|██████████| 44/44 [00:27<00:00,  1.58it/s]\n",
      "100%|██████████| 3/3 [00:00<00:00,  4.97it/s]\n"
     ]
    },
    {
     "name": "stdout",
     "output_type": "stream",
     "text": [
      "Running epoch 3...\n"
     ]
    },
    {
     "name": "stderr",
     "output_type": "stream",
     "text": [
      "100%|██████████| 44/44 [00:25<00:00,  1.72it/s]\n",
      "100%|██████████| 3/3 [00:00<00:00,  5.43it/s]\n"
     ]
    },
    {
     "name": "stdout",
     "output_type": "stream",
     "text": [
      "Running epoch 4...\n"
     ]
    },
    {
     "name": "stderr",
     "output_type": "stream",
     "text": [
      "100%|██████████| 44/44 [00:27<00:00,  1.61it/s]\n",
      "100%|██████████| 3/3 [00:00<00:00,  5.76it/s]\n"
     ]
    },
    {
     "name": "stdout",
     "output_type": "stream",
     "text": [
      "Running epoch 5...\n"
     ]
    },
    {
     "name": "stderr",
     "output_type": "stream",
     "text": [
      "100%|██████████| 44/44 [00:28<00:00,  1.56it/s]\n",
      "100%|██████████| 3/3 [00:00<00:00,  5.10it/s]"
     ]
    },
    {
     "name": "stdout",
     "output_type": "stream",
     "text": [
      "[137.74997585374146, 121.5789636215103, 114.86391651611109, 109.3295759706269, 104.74934093884868]\n",
      "[0.0, 0.0, 0.0, 0.0, 0.0]\n",
      "[0.04433701906600047, 0.062316764025129506, 0.06796499745449448, 0.07240003463253437, 0.07785485979950603]\n",
      "\n",
      "[127.48999699519231, 119.83280949519231, 114.1518780048077, 109.517109375, 105.72379657451923]\n",
      "[0.0, 0.0, 0.0, 0.0, 0.0]\n",
      "[0.05703490464195754, 0.06327216024949023, 0.07172843948662588, 0.07514693534844669, 0.0798248770540962]\n"
     ]
    },
    {
     "name": "stderr",
     "output_type": "stream",
     "text": [
      "\n"
     ]
    }
   ],
   "source": [
    "EPOCHS = 5\n",
    "\n",
    "training_losses = list()\n",
    "training_sequence_accuracies = list()\n",
    "training_token_accuracies = list()\n",
    "\n",
    "gold_validation_losses = list()\n",
    "gold_validation_sequence_accuracies = list()\n",
    "gold_validation_token_accuracies = list()\n",
    "\n",
    "for i in range(EPOCHS):\n",
    "    print(f'Running epoch {i+1}...')\n",
    "\n",
    "    training_loss, training_sequence_accuracy, training_token_accuracy = run_train_epoch(train_dataloader, model, loss_fn, optim, calculate_sequence_accuracy = True, calculate_token_accuracy = True)\n",
    "\n",
    "    training_losses.append(training_loss)\n",
    "    training_sequence_accuracies.append(training_sequence_accuracy)\n",
    "    training_token_accuracies.append(training_token_accuracy)\n",
    "\n",
    "    gold_val_loss, gold_val_sequence_accuracy, gold_val_token_accuracy = run_gold_validation_loop(val_dataloader, model, loss_fn, calculate_sequence_accuracy = True, calculate_token_accuracy = True)\n",
    "    \n",
    "    gold_validation_losses.append(gold_val_loss)\n",
    "    gold_validation_sequence_accuracies.append(gold_val_sequence_accuracy)\n",
    "    gold_validation_token_accuracies.append(gold_val_token_accuracy)\n",
    "\n",
    "print(training_losses)\n",
    "print(training_sequence_accuracies)\n",
    "print(training_token_accuracies)\n",
    "\n",
    "print()\n",
    "\n",
    "print(gold_validation_losses)\n",
    "print(gold_validation_sequence_accuracies)\n",
    "print(gold_validation_token_accuracies)"
   ]
  }
 ],
 "metadata": {
  "kernelspec": {
   "display_name": "env",
   "language": "python",
   "name": "python3"
  },
  "language_info": {
   "codemirror_mode": {
    "name": "ipython",
    "version": 3
   },
   "file_extension": ".py",
   "mimetype": "text/x-python",
   "name": "python",
   "nbconvert_exporter": "python",
   "pygments_lexer": "ipython3",
   "version": "3.12.2"
  }
 },
 "nbformat": 4,
 "nbformat_minor": 5
}
