{
 "cells": [
  {
   "cell_type": "code",
   "execution_count": 20,
   "metadata": {},
   "outputs": [],
   "source": [
    "%load_ext autoreload\n",
    "%autoreload 2"
   ]
  },
  {
   "cell_type": "code",
   "execution_count": 134,
   "metadata": {},
   "outputs": [],
   "source": [
    "import sys\n",
    "import os\n",
    "import torch\n",
    "from torch.utils.data import Dataset, DataLoader\n",
    "\n",
    "import torch.nn as nn\n",
    "\n",
    "from generate_data import RandomIntegerDataset"
   ]
  },
  {
   "cell_type": "code",
   "execution_count": 96,
   "metadata": {},
   "outputs": [],
   "source": [
    "sys.path.append(os.path.abspath(\"..\"))\n",
    "from embedding import CustomEmbedding\n",
    "sys.path.remove(os.path.abspath(\"..\"))"
   ]
  },
  {
   "cell_type": "code",
   "execution_count": 99,
   "metadata": {},
   "outputs": [
    {
     "name": "stdout",
     "output_type": "stream",
     "text": [
      "Parameter containing:\n",
      "tensor([[-0.5883, -0.4169,  0.5113,  0.0620,  1.9436,  0.5713, -0.5328, -0.4432],\n",
      "        [-0.2558, -1.0582, -0.9108, -0.9217,  0.3481, -0.4505,  1.6085,  1.0954],\n",
      "        [ 0.5305,  0.1746,  0.7818, -0.9394,  1.9737, -0.0071,  0.7987, -1.0126],\n",
      "        [ 0.2547, -0.8258,  0.3831,  1.2844,  1.0588,  1.7994, -0.0411, -0.3108],\n",
      "        [ 0.5195, -1.7401, -1.0367, -0.6395, -1.2437,  1.2663,  0.0127, -0.8008],\n",
      "        [ 1.3834,  0.6505, -0.1878,  0.3797, -0.6840,  1.4687, -2.6809, -0.3775],\n",
      "        [ 0.4305,  1.2888, -1.7802, -0.0608, -0.0814,  0.3278,  1.2174,  0.1904],\n",
      "        [-0.7199,  0.3571,  0.0219,  0.4970, -1.1759, -1.4723, -0.1233,  0.9309],\n",
      "        [-0.1171, -0.9301,  0.6343,  0.4795, -0.9458, -1.5227, -1.3528,  1.2140],\n",
      "        [-0.7659,  1.9569,  0.3681, -1.6962,  0.2449,  0.2973,  0.8388,  1.9350],\n",
      "        [-1.3392, -0.3317, -0.5830,  0.6540, -0.2970,  0.1539,  1.5088, -0.8474],\n",
      "        [-0.8325,  0.0559,  0.8497, -0.8626,  0.9420, -0.7838,  0.6400, -0.6807],\n",
      "        [-1.2584,  0.6586, -0.5915, -2.2006, -0.9840, -1.0999,  0.1554,  0.6129]],\n",
      "       requires_grad=True)\n",
      "tensor([[-0.2558, -1.0582, -0.9108, -0.9217,  0.3481, -0.4505,  1.6085,  1.0954],\n",
      "        [-0.7659,  1.9569,  0.3681, -1.6962,  0.2449,  0.2973,  0.8388,  1.9350]],\n",
      "       grad_fn=<EmbeddingBackward0>)\n"
     ]
    }
   ],
   "source": [
    "N_WORDS = 10\n",
    "\n",
    "embeddings = CustomEmbedding(N_WORDS + 3, 8) # 3 = PAD, SOS, EOS\n",
    "\n",
    "indices = torch.tensor([1,9], dtype = torch.int64)\n",
    "\n",
    "print(embeddings.embeddings.weight)\n",
    "print(embeddings.embeddings(indices))"
   ]
  },
  {
   "cell_type": "code",
   "execution_count": null,
   "metadata": {},
   "outputs": [],
   "source": [
    "BATCH_SIZE = 2\n",
    "\n",
    "rand_ds = RandomIntegerDataset(2, 10, 10, [i for i in range(10)])\n",
    "dataloader = DataLoader(rand_ds, batch_size = BATCH_SIZE, shuffle = True)"
   ]
  },
  {
   "cell_type": "code",
   "execution_count": 133,
   "metadata": {},
   "outputs": [
    {
     "name": "stdout",
     "output_type": "stream",
     "text": [
      "tensor([[ 1,  9,  0, 11, 11, 11, 11, 11, 11, 11],\n",
      "        [ 7,  5,  3,  9,  6,  2, 11, 11, 11, 11]])\n",
      "tensor([[12,  0,  1,  9, 11, 11, 11, 11, 11, 11, 11],\n",
      "        [12,  2,  3,  5,  6,  7,  9, 11, 11, 11, 11]])\n",
      "tensor([[ 0,  1,  9, 13, 11, 11, 11, 11, 11, 11, 11],\n",
      "        [ 2,  3,  5,  6,  7,  9, 13, 11, 11, 11, 11]])\n"
     ]
    }
   ],
   "source": [
    "input, label = next(iter(dataloader))\n",
    "print(input[0])\n",
    "print(input[1])\n",
    "print(label)"
   ]
  },
  {
   "cell_type": "code",
   "execution_count": null,
   "metadata": {},
   "outputs": [],
   "source": [
    "LEARNING_RATE = 1e-3\n",
    "\n",
    "loss_fn = nn.CrossEntropyLoss()\n",
    "optim = torch.optim.SGD(params = ..., lr = LEARNING_RATE, momentum = 0.9, weight_decay = 1e-4)"
   ]
  },
  {
   "cell_type": "code",
   "execution_count": null,
   "metadata": {},
   "outputs": [],
   "source": [
    "def run_train_epoch(dataloader: DataLoader, model, loss_fn, optimizer):\n",
    "    pass\n",
    "\n",
    "def run_test_loop(dataloader: DataLoader, model, loss_fn):\n",
    "    pass"
   ]
  }
 ],
 "metadata": {
  "kernelspec": {
   "display_name": "dev",
   "language": "python",
   "name": "python3"
  },
  "language_info": {
   "codemirror_mode": {
    "name": "ipython",
    "version": 3
   },
   "file_extension": ".py",
   "mimetype": "text/x-python",
   "name": "python",
   "nbconvert_exporter": "python",
   "pygments_lexer": "ipython3",
   "version": "3.9.21"
  }
 },
 "nbformat": 4,
 "nbformat_minor": 2
}
