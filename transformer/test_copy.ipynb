{
 "cells": [
  {
   "cell_type": "code",
   "execution_count": 125,
   "metadata": {},
   "outputs": [
    {
     "name": "stdout",
     "output_type": "stream",
     "text": [
      "The autoreload extension is already loaded. To reload it, use:\n",
      "  %reload_ext autoreload\n"
     ]
    }
   ],
   "source": [
    "%load_ext autoreload\n",
    "%autoreload 2"
   ]
  },
  {
   "cell_type": "code",
   "execution_count": 126,
   "metadata": {},
   "outputs": [],
   "source": [
    "import sys\n",
    "import os\n",
    "import torch\n",
    "from functools import partial\n",
    "from torch.utils.data import Dataset, DataLoader\n",
    "from tqdm import tqdm\n",
    "\n",
    "import torch.nn as nn\n",
    "from embedding import CustomEmbedding\n",
    "from transformers import EncoderDecoderTransformer\n",
    "from utils import padding_collate_fn\n",
    "\n",
    "from generate_data import RandomIntegerDataset"
   ]
  },
  {
   "cell_type": "code",
   "execution_count": 127,
   "metadata": {},
   "outputs": [
    {
     "name": "stdout",
     "output_type": "stream",
     "text": [
      "tensor([[ 0.4314, -0.0769,  0.4303,  0.8248,  2.1725, -1.6138,  0.3383, -1.9118,\n",
      "          0.7193,  0.4160, -2.4166, -0.0286, -0.6437,  1.1062,  1.5996, -1.1645],\n",
      "        [-1.8077, -1.1667, -2.4940,  0.5303,  0.3790,  0.3417,  0.5226, -2.0415,\n",
      "         -1.0051,  0.7987,  1.4476,  0.8875, -0.3965,  0.7148, -0.3149,  1.0780]],\n",
      "       grad_fn=<EmbeddingBackward0>)\n"
     ]
    }
   ],
   "source": [
    "n_real_tokens = 10\n",
    "PAD_TOKEN_IDX = n_real_tokens\n",
    "SOS_TOKEN_IDX = n_real_tokens + 1\n",
    "EOS_TOKEN_IDX = n_real_tokens + 2\n",
    "vocab_size = n_real_tokens + 3\n",
    "D_MODEL = 16\n",
    "\n",
    "embeddings = CustomEmbedding(vocab_size = vocab_size + 3, d_model = D_MODEL) # 3 = PAD, SOS, EOS\n",
    "\n",
    "indices = torch.tensor([1,9])\n",
    "\n",
    "# print(embeddings.embeddings.weight)\n",
    "print(embeddings.embeddings(indices))"
   ]
  },
  {
   "cell_type": "code",
   "execution_count": 128,
   "metadata": {},
   "outputs": [],
   "source": [
    "MAX_CONTEXT_WINDOW = 50\n",
    "\n",
    "BATCH_SIZE = 32\n",
    "MIN_SEQ_LEN = 2\n",
    "MAX_SEQ_LEN = min(10, MAX_CONTEXT_WINDOW)\n",
    "\n",
    "rand_ds = RandomIntegerDataset(2, 10, 10000, [i for i in range(10)])\n",
    "dataloader = DataLoader(rand_ds, batch_size = BATCH_SIZE, shuffle = True, collate_fn = partial(padding_collate_fn, pad_token_idx = PAD_TOKEN_IDX))"
   ]
  },
  {
   "cell_type": "code",
   "execution_count": 129,
   "metadata": {},
   "outputs": [
    {
     "name": "stdout",
     "output_type": "stream",
     "text": [
      "tensor([[ 3,  3,  1, 10, 10, 10, 10, 10, 10, 10],\n",
      "        [ 7,  4,  9,  6,  4,  3,  8,  0, 10, 10],\n",
      "        [ 5,  2,  2,  9,  5,  8,  2, 10, 10, 10],\n",
      "        [ 9,  9,  9,  0,  4,  6,  1,  8,  0,  1],\n",
      "        [ 5,  9,  3,  7,  0,  6,  4,  3,  9,  9],\n",
      "        [ 4,  3,  0,  5,  3,  3,  8,  3,  4, 10],\n",
      "        [ 7,  4,  6,  6,  2,  4, 10, 10, 10, 10],\n",
      "        [ 6,  6,  9,  9,  7,  8,  8, 10, 10, 10],\n",
      "        [ 7,  7,  7,  4,  0,  4, 10, 10, 10, 10],\n",
      "        [ 7,  4,  0,  0,  2,  0,  5, 10, 10, 10],\n",
      "        [ 8,  3,  9,  5,  6, 10, 10, 10, 10, 10],\n",
      "        [ 7,  6,  6,  0,  1,  3,  4,  3,  7,  9],\n",
      "        [ 4,  3,  3,  3,  4,  9,  0,  1,  7, 10],\n",
      "        [ 6,  9,  8,  2,  5,  8, 10, 10, 10, 10],\n",
      "        [ 7,  8,  5,  9,  7,  4,  5,  9,  2, 10],\n",
      "        [ 8,  2,  7,  2,  3,  4,  8,  0, 10, 10],\n",
      "        [ 8,  0,  4,  9,  8,  4,  4,  2,  9,  0],\n",
      "        [ 4,  8,  0,  0,  9,  8,  0,  8, 10, 10],\n",
      "        [ 0,  9,  9,  6,  7,  0,  8, 10, 10, 10],\n",
      "        [ 2,  8,  5,  7, 10, 10, 10, 10, 10, 10],\n",
      "        [ 6,  7,  0,  7,  4,  2,  6,  8, 10, 10],\n",
      "        [ 8,  4,  2,  4, 10, 10, 10, 10, 10, 10],\n",
      "        [ 3,  7, 10, 10, 10, 10, 10, 10, 10, 10],\n",
      "        [ 3,  8,  9,  4,  0,  1,  0,  3,  2,  2],\n",
      "        [ 2,  2,  0,  4,  7,  2,  5,  7,  6, 10],\n",
      "        [ 6,  2,  4,  9, 10, 10, 10, 10, 10, 10],\n",
      "        [ 4,  5,  2,  9,  9,  8,  8,  9,  0, 10],\n",
      "        [ 6,  7,  4, 10, 10, 10, 10, 10, 10, 10],\n",
      "        [ 2,  2,  3, 10, 10, 10, 10, 10, 10, 10],\n",
      "        [ 4,  8,  7, 10, 10, 10, 10, 10, 10, 10],\n",
      "        [ 5,  8,  3,  4,  7,  7,  7, 10, 10, 10],\n",
      "        [ 3,  6,  1,  1,  4,  8, 10, 10, 10, 10]])\n",
      "tensor([[11,  1,  3,  3, 10, 10, 10, 10, 10, 10, 10],\n",
      "        [11,  0,  3,  4,  4,  6,  7,  8,  9, 10, 10],\n",
      "        [11,  2,  2,  2,  5,  5,  8,  9, 10, 10, 10],\n",
      "        [11,  0,  0,  1,  1,  4,  6,  8,  9,  9,  9],\n",
      "        [11,  0,  3,  3,  4,  5,  6,  7,  9,  9,  9],\n",
      "        [11,  0,  3,  3,  3,  3,  4,  4,  5,  8, 10],\n",
      "        [11,  2,  4,  4,  6,  6,  7, 10, 10, 10, 10],\n",
      "        [11,  6,  6,  7,  8,  8,  9,  9, 10, 10, 10],\n",
      "        [11,  0,  4,  4,  7,  7,  7, 10, 10, 10, 10],\n",
      "        [11,  0,  0,  0,  2,  4,  5,  7, 10, 10, 10],\n",
      "        [11,  3,  5,  6,  8,  9, 10, 10, 10, 10, 10],\n",
      "        [11,  0,  1,  3,  3,  4,  6,  6,  7,  7,  9],\n",
      "        [11,  0,  1,  3,  3,  3,  4,  4,  7,  9, 10],\n",
      "        [11,  2,  5,  6,  8,  8,  9, 10, 10, 10, 10],\n",
      "        [11,  2,  4,  5,  5,  7,  7,  8,  9,  9, 10],\n",
      "        [11,  0,  2,  2,  3,  4,  7,  8,  8, 10, 10],\n",
      "        [11,  0,  0,  2,  4,  4,  4,  8,  8,  9,  9],\n",
      "        [11,  0,  0,  0,  4,  8,  8,  8,  9, 10, 10],\n",
      "        [11,  0,  0,  6,  7,  8,  9,  9, 10, 10, 10],\n",
      "        [11,  2,  5,  7,  8, 10, 10, 10, 10, 10, 10],\n",
      "        [11,  0,  2,  4,  6,  6,  7,  7,  8, 10, 10],\n",
      "        [11,  2,  4,  4,  8, 10, 10, 10, 10, 10, 10],\n",
      "        [11,  3,  7, 10, 10, 10, 10, 10, 10, 10, 10],\n",
      "        [11,  0,  0,  1,  2,  2,  3,  3,  4,  8,  9],\n",
      "        [11,  0,  2,  2,  2,  4,  5,  6,  7,  7, 10],\n",
      "        [11,  2,  4,  6,  9, 10, 10, 10, 10, 10, 10],\n",
      "        [11,  0,  2,  4,  5,  8,  8,  9,  9,  9, 10],\n",
      "        [11,  4,  6,  7, 10, 10, 10, 10, 10, 10, 10],\n",
      "        [11,  2,  2,  3, 10, 10, 10, 10, 10, 10, 10],\n",
      "        [11,  4,  7,  8, 10, 10, 10, 10, 10, 10, 10],\n",
      "        [11,  3,  4,  5,  7,  7,  7,  8, 10, 10, 10],\n",
      "        [11,  1,  1,  3,  4,  6,  8, 10, 10, 10, 10]])\n",
      "tensor([[ 1,  3,  3, 12, 10, 10, 10, 10, 10, 10, 10],\n",
      "        [ 0,  3,  4,  4,  6,  7,  8,  9, 12, 10, 10],\n",
      "        [ 2,  2,  2,  5,  5,  8,  9, 12, 10, 10, 10],\n",
      "        [ 0,  0,  1,  1,  4,  6,  8,  9,  9,  9, 12],\n",
      "        [ 0,  3,  3,  4,  5,  6,  7,  9,  9,  9, 12],\n",
      "        [ 0,  3,  3,  3,  3,  4,  4,  5,  8, 12, 10],\n",
      "        [ 2,  4,  4,  6,  6,  7, 12, 10, 10, 10, 10],\n",
      "        [ 6,  6,  7,  8,  8,  9,  9, 12, 10, 10, 10],\n",
      "        [ 0,  4,  4,  7,  7,  7, 12, 10, 10, 10, 10],\n",
      "        [ 0,  0,  0,  2,  4,  5,  7, 12, 10, 10, 10],\n",
      "        [ 3,  5,  6,  8,  9, 12, 10, 10, 10, 10, 10],\n",
      "        [ 0,  1,  3,  3,  4,  6,  6,  7,  7,  9, 12],\n",
      "        [ 0,  1,  3,  3,  3,  4,  4,  7,  9, 12, 10],\n",
      "        [ 2,  5,  6,  8,  8,  9, 12, 10, 10, 10, 10],\n",
      "        [ 2,  4,  5,  5,  7,  7,  8,  9,  9, 12, 10],\n",
      "        [ 0,  2,  2,  3,  4,  7,  8,  8, 12, 10, 10],\n",
      "        [ 0,  0,  2,  4,  4,  4,  8,  8,  9,  9, 12],\n",
      "        [ 0,  0,  0,  4,  8,  8,  8,  9, 12, 10, 10],\n",
      "        [ 0,  0,  6,  7,  8,  9,  9, 12, 10, 10, 10],\n",
      "        [ 2,  5,  7,  8, 12, 10, 10, 10, 10, 10, 10],\n",
      "        [ 0,  2,  4,  6,  6,  7,  7,  8, 12, 10, 10],\n",
      "        [ 2,  4,  4,  8, 12, 10, 10, 10, 10, 10, 10],\n",
      "        [ 3,  7, 12, 10, 10, 10, 10, 10, 10, 10, 10],\n",
      "        [ 0,  0,  1,  2,  2,  3,  3,  4,  8,  9, 12],\n",
      "        [ 0,  2,  2,  2,  4,  5,  6,  7,  7, 12, 10],\n",
      "        [ 2,  4,  6,  9, 12, 10, 10, 10, 10, 10, 10],\n",
      "        [ 0,  2,  4,  5,  8,  8,  9,  9,  9, 12, 10],\n",
      "        [ 4,  6,  7, 12, 10, 10, 10, 10, 10, 10, 10],\n",
      "        [ 2,  2,  3, 12, 10, 10, 10, 10, 10, 10, 10],\n",
      "        [ 4,  7,  8, 12, 10, 10, 10, 10, 10, 10, 10],\n",
      "        [ 3,  4,  5,  7,  7,  7,  8, 12, 10, 10, 10],\n",
      "        [ 1,  1,  3,  4,  6,  8, 12, 10, 10, 10, 10]])\n"
     ]
    }
   ],
   "source": [
    "input, label = next(iter(dataloader))\n",
    "print(input[0])\n",
    "print(input[1])\n",
    "print(label)"
   ]
  },
  {
   "cell_type": "code",
   "execution_count": 130,
   "metadata": {},
   "outputs": [],
   "source": [
    "loss_fn = nn.CrossEntropyLoss(ignore_index = PAD_TOKEN_IDX, reduction = 'sum')\n",
    "\n",
    "model = EncoderDecoderTransformer(\n",
    "                    embeddings = embeddings, \n",
    "                    vocab_size = vocab_size, \n",
    "                    d_model = D_MODEL, \n",
    "                    num_attention_heads = 4, \n",
    "                    num_encoder_layers = 1, \n",
    "                    num_decoder_layers = 1, \n",
    "                    dim_feedforward = 32, \n",
    "                    max_context_window = MAX_CONTEXT_WINDOW)\n",
    "\n",
    "optim = torch.optim.SGD(params = model.parameters(), lr = 1e-3, momentum = 0.9, weight_decay = 1e-4)"
   ]
  },
  {
   "cell_type": "code",
   "execution_count": 131,
   "metadata": {},
   "outputs": [],
   "source": [
    "def run_train_epoch(dataloader: DataLoader, model: nn.Module, loss_fn: nn.Module, optimizer: torch.optim.Optimizer, calculate_sequence_accuracy: bool = False, calculate_token_accuracy: bool = False):\n",
    "    \"\"\"\n",
    "\n",
    "    \"\"\"\n",
    "    model.train()\n",
    "\n",
    "    epoch_loss = 0.0\n",
    "    total_correct_sequences = 0\n",
    "    total_correct_tokens = 0\n",
    "\n",
    "    for i, ((source, target), label) in tqdm(enumerate(dataloader)):\n",
    "\n",
    "        # FORWARD\n",
    "        pred_logits = model(source, target)\n",
    "\n",
    "        # pred_logits.shape: [batch_size, seq_len, vocab_size]\n",
    "        # label.shape: [batch_size, seq_len]\n",
    "\n",
    "        # CrossEntropyLoss (loss_fn) only takes 2D predictions (n_batch * seq_len, vocab_size) and 1D labels (n_batch * seq_len)\n",
    "        batch_loss = loss_fn(pred_logits.view(-1, vocab_size), label.view(-1))\n",
    "\n",
    "        # LOG\n",
    "        with torch.no_grad():\n",
    "            epoch_loss += batch_loss.item()\n",
    "\n",
    "            if calculate_sequence_accuracy:\n",
    "                predictions = torch.argmax(pred_logits, dim = -1) # predictions.shape: [batch_size, seq_len]\n",
    "                match_matrix = torch.eq(predictions, label)\n",
    "                num_correct_sequences = torch.all(match_matrix, dim = 1).sum()\n",
    "                total_correct_sequences += num_correct_sequences\n",
    "\n",
    "            if calculate_token_accuracy:\n",
    "                ...        \n",
    "\n",
    "        # BACKWARD\n",
    "        batch_loss.backward()\n",
    "\n",
    "        # OPTIMIZE\n",
    "        optimizer.step()\n",
    "        optimizer.zero_grad()\n",
    "\n",
    "    average_epoch_loss = epoch_loss / len(dataloader.dataset)\n",
    "    if calculate_sequence_accuracy:\n",
    "        average_epoch_sequence_accuracy = total_correct_sequences.item() / len(dataloader.dataset)\n",
    "    if calculate_token_accuracy:\n",
    "        ...\n",
    "\n",
    "    return average_epoch_loss, average_epoch_sequence_accuracy\n",
    "\n",
    "def run_validation_loop(dataloader: DataLoader, model: nn.Module, loss_fn: nn.Module):\n",
    "    \n",
    "    model.eval()"
   ]
  },
  {
   "cell_type": "code",
   "execution_count": 132,
   "metadata": {},
   "outputs": [
    {
     "name": "stderr",
     "output_type": "stream",
     "text": [
      "313it [00:02, 134.78it/s]\n",
      "313it [00:02, 140.12it/s]\n",
      "313it [00:02, 140.05it/s]\n",
      "313it [00:02, 140.23it/s]\n",
      "313it [00:02, 136.18it/s]\n",
      "313it [00:02, 136.20it/s]\n",
      "313it [00:02, 137.01it/s]\n",
      "313it [00:02, 130.64it/s]\n",
      "313it [00:02, 136.09it/s]\n",
      "313it [00:02, 139.23it/s]"
     ]
    },
    {
     "name": "stdout",
     "output_type": "stream",
     "text": [
      "[5.708299437332153, 2.954068369293213, 2.5684640590667724, 2.4651227336883546, 2.2263846506118776, 2.1493445888519287, 1.8944116312026977, 1.7958404651641846, 1.655647212409973, 1.6988458086013793]\n",
      "[0.0008, 0.0054, 0.0103, 0.011, 0.0149, 0.0185, 0.0227, 0.0234, 0.0276, 0.0258]\n"
     ]
    },
    {
     "name": "stderr",
     "output_type": "stream",
     "text": [
      "\n"
     ]
    }
   ],
   "source": [
    "EPOCHS = 10\n",
    "\n",
    "training_losses = list()\n",
    "training_accuracies = list()\n",
    "validation_losses = list()\n",
    "validation_accuracies = list()\n",
    "\n",
    "for i in range(EPOCHS):\n",
    "    # print(f'Running epoch {i+1}...')\n",
    "\n",
    "    training_loss, training_accuracy = run_train_epoch(dataloader, model, loss_fn, optim, calculate_sequence_accuracy = True)\n",
    "    training_losses.append(training_loss)\n",
    "    training_accuracies.append(training_accuracy)\n",
    "\n",
    "    # validation_loss = run_validation_loop(dataloader, model, loss_fn)\n",
    "    # validation_losses.append(validation_loss)\n",
    "\n",
    "print(training_losses)\n",
    "print(training_accuracies)"
   ]
  },
  {
   "cell_type": "code",
   "execution_count": null,
   "metadata": {},
   "outputs": [],
   "source": []
  }
 ],
 "metadata": {
  "kernelspec": {
   "display_name": "env",
   "language": "python",
   "name": "python3"
  },
  "language_info": {
   "codemirror_mode": {
    "name": "ipython",
    "version": 3
   },
   "file_extension": ".py",
   "mimetype": "text/x-python",
   "name": "python",
   "nbconvert_exporter": "python",
   "pygments_lexer": "ipython3",
   "version": "3.12.2"
  }
 },
 "nbformat": 4,
 "nbformat_minor": 2
}
