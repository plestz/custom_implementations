{
 "cells": [
  {
   "cell_type": "code",
   "execution_count": 15,
   "id": "0936b86a",
   "metadata": {},
   "outputs": [],
   "source": [
    "import numpy as np\n",
    "import pandas as pd\n",
    "import matplotlib.pyplot as plt\n",
    "import seaborn as sns\n",
    "\n",
    "import json"
   ]
  },
  {
   "cell_type": "code",
   "execution_count": 16,
   "id": "b23da9b2",
   "metadata": {},
   "outputs": [],
   "source": [
    "DATA_URL = '../../data/SAMSum/'"
   ]
  },
  {
   "cell_type": "code",
   "execution_count": 23,
   "id": "cf4244fb",
   "metadata": {},
   "outputs": [],
   "source": [
    "with open(DATA_URL + 'train.json', 'r') as f:\n",
    "    training_data: list = json.load(f)\n",
    "with open(DATA_URL + 'val.json', 'r') as f:\n",
    "    validation_data: list = json.load(f)\n",
    "with open(DATA_URL + 'test.json', 'r') as f:\n",
    "    testing_data: list = json.load(f)"
   ]
  },
  {
   "cell_type": "code",
   "execution_count": 26,
   "id": "663d8155",
   "metadata": {},
   "outputs": [
    {
     "name": "stdout",
     "output_type": "stream",
     "text": [
      "There are 14732 training examples, each with the following columns: ['id', 'summary', 'dialogue'].\n",
      "There are 818 validation examples, each with the following columns: ['id', 'summary', 'dialogue'].\n",
      "There are 819 testing examples, each with the following columns: ['id', 'summary', 'dialogue'].\n"
     ]
    }
   ],
   "source": [
    "for title, data in zip(['training', 'validation', 'testing'], [training_data, validation_data, testing_data]):\n",
    "    print(f'There are {len(data)} {title} examples, each with the following columns: {list(data[0].keys())}.')"
   ]
  }
 ],
 "metadata": {
  "kernelspec": {
   "display_name": "env",
   "language": "python",
   "name": "python3"
  },
  "language_info": {
   "codemirror_mode": {
    "name": "ipython",
    "version": 3
   },
   "file_extension": ".py",
   "mimetype": "text/x-python",
   "name": "python",
   "nbconvert_exporter": "python",
   "pygments_lexer": "ipython3",
   "version": "3.12.2"
  }
 },
 "nbformat": 4,
 "nbformat_minor": 5
}
