{
 "cells": [
  {
   "cell_type": "code",
   "execution_count": 1,
   "id": "f8197d66",
   "metadata": {},
   "outputs": [],
   "source": [
    "%load_ext autoreload\n",
    "%autoreload 2"
   ]
  },
  {
   "cell_type": "code",
   "execution_count": 2,
   "id": "48e3952b",
   "metadata": {},
   "outputs": [
    {
     "name": "stdout",
     "output_type": "stream",
     "text": [
      "Intel MKL WARNING: Support of Intel(R) Streaming SIMD Extensions 4.2 (Intel(R) SSE4.2) enabled only processors has been deprecated. Intel oneAPI Math Kernel Library 2025.0 will require Intel(R) Advanced Vector Extensions (Intel(R) AVX) instructions.\n",
      "Intel MKL WARNING: Support of Intel(R) Streaming SIMD Extensions 4.2 (Intel(R) SSE4.2) enabled only processors has been deprecated. Intel oneAPI Math Kernel Library 2025.0 will require Intel(R) Advanced Vector Extensions (Intel(R) AVX) instructions.\n"
     ]
    },
    {
     "name": "stderr",
     "output_type": "stream",
     "text": [
      "/Users/paul/opt/miniconda3/envs/env/lib/python3.12/site-packages/tqdm/auto.py:21: TqdmWarning: IProgress not found. Please update jupyter and ipywidgets. See https://ipywidgets.readthedocs.io/en/stable/user_install.html\n",
      "  from .autonotebook import tqdm as notebook_tqdm\n"
     ]
    }
   ],
   "source": [
    "import sys\n",
    "import os\n",
    "from pathlib import Path\n",
    "\n",
    "# Get the parent directory (i.e. project root)\n",
    "project_root = Path().resolve().parent.parent \n",
    "sys.path.insert(0, str(project_root))\n",
    "\n",
    "import numpy as np\n",
    "import pandas as pd\n",
    "\n",
    "import torch\n",
    "import torch.nn as nn\n",
    "from torch.utils.data import Dataset, DataLoader\n",
    "from functools import partial\n",
    "\n",
    "from tqdm import tqdm\n",
    "\n",
    "from tokenization.byte_pair_encoding.get_tokenizers import train_and_save_tokenizer_for, load_tokenizer_from\n",
    "\n",
    "from pre_training.text_summarization.dataset import TextSummarizationDataset\n",
    "\n",
    "from src.embedding import CustomEmbedding\n",
    "from src.transformer import EncoderDecoderTransformer\n",
    "from src.utils import padding_collate_fn"
   ]
  },
  {
   "cell_type": "code",
   "execution_count": 3,
   "id": "81921cff",
   "metadata": {},
   "outputs": [],
   "source": [
    "DF_DATA_PATH = '../../data/SAMSum/'\n",
    "\n",
    "BPE_IN_PATH = '../../data/SAMSum/train_summary_and_dialogue.txt'\n",
    "BPE_OUT_PATH = '../../tokenization/trained_tokenizers/SAMSum_BPE'"
   ]
  },
  {
   "cell_type": "code",
   "execution_count": 61,
   "id": "0a22ec33",
   "metadata": {},
   "outputs": [],
   "source": [
    "MAX_CONTEXT_WINDOW = 100"
   ]
  },
  {
   "cell_type": "code",
   "execution_count": 57,
   "id": "73f11a25",
   "metadata": {},
   "outputs": [],
   "source": [
    "train_df = pd.read_json(DF_DATA_PATH + 'train_df.json', orient = 'records', lines = True)\n",
    "val_df = pd.read_json(DF_DATA_PATH + 'val_df.json', orient = 'records', lines = True)\n",
    "test_df = pd.read_json(DF_DATA_PATH + 'test_df.json', orient = 'records', lines = True)"
   ]
  },
  {
   "cell_type": "code",
   "execution_count": 6,
   "id": "319eede3",
   "metadata": {},
   "outputs": [
    {
     "name": "stdout",
     "output_type": "stream",
     "text": [
      "\n",
      "\n",
      "\n"
     ]
    }
   ],
   "source": [
    "bpe_tokenizer = train_and_save_tokenizer_for(in_file_paths = [BPE_IN_PATH], out_file_dir_path = BPE_OUT_PATH, vocab_size = 4_000)\n",
    "pretrained_bpe_tokenizer = load_tokenizer_from(dir_path = BPE_OUT_PATH, model_max_length = 10000)"
   ]
  },
  {
   "cell_type": "code",
   "execution_count": 63,
   "id": "8a000cc4",
   "metadata": {},
   "outputs": [
    {
     "name": "stdout",
     "output_type": "stream",
     "text": [
      "14732\n",
      "5580\n"
     ]
    }
   ],
   "source": [
    "train_encoded = pretrained_bpe_tokenizer(\n",
    "    train_df['dialogue'].tolist(),\n",
    "    add_special_tokens = False\n",
    ")\n",
    "\n",
    "train_encoded_filtered = [example for example in train_encoded.data['input_ids'] if len(example) <= MAX_CONTEXT_WINDOW]\n",
    "\n",
    "print(len(train_encoded.data['input_ids']))\n",
    "print(len(train_encoded_filtered))"
   ]
  },
  {
   "cell_type": "code",
   "execution_count": 43,
   "id": "25bc9e0e",
   "metadata": {},
   "outputs": [
    {
     "name": "stdout",
     "output_type": "stream",
     "text": [
      "<class 'transformers.tokenization_utils_base.BatchEncoding'>\n",
      "<class 'tokenizers.Encoding'>\n"
     ]
    }
   ],
   "source": [
    "print(type(train_encoded))\n",
    "print(type(train_encoded[0]))"
   ]
  },
  {
   "cell_type": "code",
   "execution_count": 60,
   "id": "bdb3fd84",
   "metadata": {},
   "outputs": [
    {
     "name": "stdout",
     "output_type": "stream",
     "text": [
      "dict_keys(['input_ids', 'token_type_ids', 'attention_mask'])\n",
      "14732\n",
      "[1607, 30, 273, 274, 598, 307, 225, 3972, 18, 822, 286, 449, 441, 35, 206, 203, 2115, 30, 893, 5, 206, 203, 1607, 30, 273, 419, 933, 286, 606, 1677]\n",
      "['Amanda', ':', 'ĠI', 'Ġb', 'ak', 'ed', 'Ġ', 'Ġcookies', '.', 'ĠDo', 'Ġyou', 'Ġwant', 'Ġsome', '?', 'č', 'Ċ', 'Jerry', ':', 'ĠSure', '!', 'č', 'Ċ', 'Amanda', ':', 'ĠI', \"'ll\", 'Ġbring', 'Ġyou', 'Ġtomorrow', 'Ġ:-)']\n"
     ]
    }
   ],
   "source": [
    "print(train_encoded.data.keys())\n",
    "print(len(train_encoded.data['input_ids']))\n",
    "print(train_encoded.data['input_ids'][0])\n",
    "print(train_encoded.encodings[0].tokens)"
   ]
  },
  {
   "cell_type": "code",
   "execution_count": 47,
   "id": "3e2f9779",
   "metadata": {},
   "outputs": [
    {
     "name": "stdout",
     "output_type": "stream",
     "text": [
      "['Georg', 'ia', ':', 'Ġare', 'Ġyou', 'Ġready', 'Ġfor', 'Ġhotel', 'Ġhun', 'ting', '?', 'ĠWe', 'Ġneed', 'Ġto', 'Ġbook', 'Ġsomething', 'Ġfinally', 'Ġfor', 'ĠL', 'is', 'b', 'on', 'č', 'Ċ', 'Jul', 'i', 'ette', ':', 'Ġsure', 'Ġwe', 'Ġcan', 'Ġgo', 'Ġon', ',', 'Ġshow', 'Ġme', 'Ġwhat', 'Ġyou', 'Ġfound', 'č', 'Ċ', 'Georg', 'ia', ':', 'Ġ<', 'file', '_', 'photo', '>', 'č', 'Ċ', 'Jul', 'i', 'ette', ':', 'Ġn', 'ah', '...', 'Ġit', 'Ġlooks', 'Ġlike', 'Ġan', 'Ġold', 'Ġlady', \"'s\", 'Ġroom', 'Ġlol', 'č', 'Ċ', 'Georg', 'ia', ':', 'Ġ<', 'file', '_', 'photo', '>', 'č', 'Ċ', 'Jul', 'i', 'ette', ':', 'Ġthat', \"'s\", 'Ġbetter', '...', 'Ġbut', 'Ġthe', 'Ġbed', 'Ġdoesn', \"'t\", 'Ġlook', 'Ġvery', 'Ġcomfort', 'able', 'č', 'Ċ', 'Georg', 'ia', ':', 'Ġi', 'Ġkind', 'Ġof', 'Ġlike', 'Ġit', 'Ġand', 'Ġit', \"'s\", 'Ġreally', 'Ġclose', 'Ġto', 'Ġthe', 'Ġcity', 'Ġc', 'en', 'ter', 'č', 'Ċ', 'Jul', 'i', 'ette', ':', 'Ġshow', 'Ġme', 'Ġthe', 'Ġothers', 'Ġplease', 'č', 'Ċ', 'Georg', 'ia', ':', 'Ġ<', 'file', '_', 'photo', '>', 'č', 'Ċ', 'Jul', 'i', 'ette', ':', 'Ġn', 'ah', '...', 'Ġthis', 'Ġone', 'Ġsucks', 'Ġtoo', ',', 'Ġlook', 'Ġat', 'Ġthose', 'Ġhorrible', 'Ġc', 'urt', 'ains', 'Ġ', 'č', 'Ċ', 'Georg', 'ia', ':', 'Ġaff', 'ĠJul', 'ie', 'Ġyou', 'Ġare', 'Ġsuch', 'Ġa', 'Ġpr', 'inc', 'ess', 'č', 'Ċ', 'Jul', 'i', 'ette', ':', 'Ġi', 'Ġjust', 'Ġwant', 'Ġto', 'Ġbe', 'Ġcomfort', 'able', 'č', 'Ċ', 'Georg', 'ia', ':', 'Ġcome', 'Ġon', ',', 'Ġstop', 'Ġwh', 'in', 'ing', 'Ġyou', 'Ġknow', 'Ġwe', 'Ġare', 'Ġon', 'Ġa', 'Ġbud', 'get', 'č', 'Ċ', 'Jul', 'i', 'ette', ':', 'Ġwell', 'Ġhope', 'fully', 'Ġwe', 'Ġcan', 'Ġfind', 'Ġsomething', 'Ġthat', \"'s\", 'Ġdec', 'ent', 'Ġright', '?', 'č', 'Ċ', 'Georg', 'ia', ':', 'Ġi', 'Ġdid', 'Ġshow', 'Ġyou', 'Ġdec', 'ent', 'Ġbut', 'Ġyou', 'Ġwant', 'Ġa', 'ĠMar', 'ri', 'ott', 'Ġor', 'Ġsomething', 'Ġ:/', 'č', 'Ċ', 'Jul', 'i', 'ette', ':', 'Ġok', 'Ġok', 'Ġdon', \"'t\", 'Ġget', 'Ġangry', 'č', 'Ċ', 'Georg', 'ia', ':', 'Ġwe', 'Ġneed', 'Ġto', 'Ġdecide', 'Ġtoday', ',', 'Ġthe', 'Ġlonger', 'Ġwe', 'Ġwait', 'Ġthe', 'Ġh', 'ig', 'her', 'Ġthe', 'Ġpr', 'ices', 'Ġget', 'Ġ', 'č', 'Ċ', 'Jul', 'i', 'ette', ':', 'Ġok', 'Ġhow', 'Ġabout', 'Ġwe', 'Ġget', 'Ġthe', 'Ġsecond', 'Ġone', 'Ġthen', '?', 'č', 'Ċ', 'Georg', 'ia', ':', 'Ġok', 'Ġgive', 'Ġme', 'Ġa', 'Ġsecond', 'č', 'Ċ', 'Jul', 'i', 'ette', ':', 'Ġsure', 'č', 'Ċ', 'Georg', 'ia', ':', 'Ġaff', 'ff', 'Ġsomeone', 'Ġalready', 'Ġbooked', 'Ġit', 'Ġ:/', 'č', 'Ċ', 'Jul', 'i', 'ette', ':', 'Ġoh', 'Ġmy', 'Ġgod', '...', 'Ġthat', \"'s\", 'Ġb', 'ull', 'sh', 'it', 'č', 'Ċ', 'Georg', 'ia', ':', 'Ġwhatever', ',', 'Ġcan', 'Ġwe', 'Ġjust', 'Ġgo', 'Ġwith', 'Ġthe', 'Ġth', 'ird', 'Ġone', '?', 'Ġit', 'Ġlooks', 'Ġnice', 'Ġover', 'all', 'Ġand', 'Ġmaybe', 'Ġthey', 'Ġchanged', 'Ġthe', 'Ġc', 'urt', 'ains', 'Ġalready', 'č', 'Ċ', 'Jul', 'i', 'ette', ':', 'Ġok', ',', 'Ġfine', 'Ġwith', 'Ġme', 'č', 'Ċ', 'Georg', 'ia', ':', 'Ġdone', 'Ġ-', 'Ġbooked', 'Ġ:)', 'č', 'Ċ', 'Jul', 'i', 'ette', ':', 'Ġperfect', '!!!', 'Ġcan', \"'t\", 'Ġwait', 'Ġto', 'Ġgo', '!!!', 'č', 'Ċ', 'Georg', 'ia', ':', 'ĠI', 'Ġknow', 'Ġ:', 'D', 'Ġwe', 'Ġwill', 'Ġhave', 'Ġthe', 'Ġbest', 'Ġtime', 'č', 'Ċ', 'Jul', 'i', 'ette', ':', 'Ġtime', 'Ġof', 'Ġour', 'Ġlives', 'Ġ<', '3', 'Ġ', '!']\n",
      "Encoding(num_tokens=30, attributes=[ids, type_ids, tokens, offsets, attention_mask, special_tokens_mask, overflowing])\n"
     ]
    }
   ],
   "source": [
    "print(train_encoded[14731].tokens)\n",
    "print(train_encoded[0])"
   ]
  }
 ],
 "metadata": {
  "kernelspec": {
   "display_name": "env",
   "language": "python",
   "name": "python3"
  },
  "language_info": {
   "codemirror_mode": {
    "name": "ipython",
    "version": 3
   },
   "file_extension": ".py",
   "mimetype": "text/x-python",
   "name": "python",
   "nbconvert_exporter": "python",
   "pygments_lexer": "ipython3",
   "version": "3.12.2"
  }
 },
 "nbformat": 4,
 "nbformat_minor": 5
}
